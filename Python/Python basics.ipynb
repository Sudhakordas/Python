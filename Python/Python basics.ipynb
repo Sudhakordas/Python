{
 "cells": [
  {
   "cell_type": "code",
   "execution_count": 9,
   "id": "c2cb91f6",
   "metadata": {},
   "outputs": [
    {
     "name": "stdout",
     "output_type": "stream",
     "text": [
      "Total expenses in that particular day is: 2206\n",
      "My favourite YouTuber is Sandeep Maheswary and his expertise is on Business & pychology.\n"
     ]
    }
   ],
   "source": [
    "# brief history of python \n",
    "# Python installation \n",
    "# Ide installation\n",
    "#Variable\n",
    "\n",
    "# Variable means where do you store data \n",
    "# In python we don't need to declare variable sepratlely  and can assign value directly\n",
    "\n",
    "#\n",
    "\n",
    "veh_cost = 506\n",
    "lunch = 300\n",
    "snack = 200\n",
    "dinner = 200\n",
    "hotel = 1000\n",
    "\n",
    "total_cost = veh_cost + lunch + snack + dinner + hotel\n",
    "\n",
    "print('Total expenses in that particular day is:', total_cost)\n",
    "\n",
    "\n",
    "name = 'Sandeep Maheswary'\n",
    "expertise = 'Business & pychology'\n",
    "\n",
    "print('My favourite YouTuber is '+name+' and his expertise is on '+ expertise + '.')"
   ]
  },
  {
   "cell_type": "code",
   "execution_count": 13,
   "id": "80c540ae",
   "metadata": {},
   "outputs": [
    {
     "name": "stdout",
     "output_type": "stream",
     "text": [
      "Sum is :  -40\n",
      "36\n"
     ]
    }
   ],
   "source": [
    "# Basic mathematics\n",
    "x = 10 \n",
    "y = 50\n",
    "\n",
    "add = x - y\n",
    "print('Sum is : ', add)\n",
    "\n",
    "# there is priorty in python in operand\n",
    "\n",
    "x = (12 + 6) * 2\n",
    "print(x)"
   ]
  },
  {
   "cell_type": "markdown",
   "id": "d3405b20",
   "metadata": {},
   "source": [
    "Strings"
   ]
  },
  {
   "cell_type": "code",
   "execution_count": 25,
   "id": "7dc32d82",
   "metadata": {},
   "outputs": [
    {
     "name": "stdout",
     "output_type": "stream",
     "text": [
      "Snadeep\n",
      "Let's run it\n"
     ]
    }
   ],
   "source": [
    "# strings are used to store text in python\n",
    "# the way python store strings it's a sequences of character and store in memory address, start from specific  and then in a sequnce\n",
    "# \n",
    "text = 'Snadeep maheshwary'\n",
    "#string in immutable in python\n",
    "\n",
    "#Getting substring\n",
    "\n",
    "sub_string = text[0:7]\n",
    "print(sub_string)\n",
    "\n",
    "\n",
    "#text[4:]\n",
    "#Can use both '' and \"\" quation to specify the strings\n",
    "\n",
    "text = \"Let's run it\"\n",
    "print(text)\n"
   ]
  },
  {
   "cell_type": "code",
   "execution_count": null,
   "id": "4e9b34b9",
   "metadata": {},
   "outputs": [],
   "source": []
  }
 ],
 "metadata": {
  "kernelspec": {
   "display_name": "Python 3",
   "language": "python",
   "name": "python3"
  },
  "language_info": {
   "codemirror_mode": {
    "name": "ipython",
    "version": 3
   },
   "file_extension": ".py",
   "mimetype": "text/x-python",
   "name": "python",
   "nbconvert_exporter": "python",
   "pygments_lexer": "ipython3",
   "version": "3.6.13"
  }
 },
 "nbformat": 4,
 "nbformat_minor": 5
}
