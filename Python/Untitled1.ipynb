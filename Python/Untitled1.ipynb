{
 "cells": [
  {
   "cell_type": "code",
   "execution_count": 19,
   "id": "2f91756c",
   "metadata": {},
   "outputs": [
    {
     "name": "stdout",
     "output_type": "stream",
     "text": [
      "7\n"
     ]
    }
   ],
   "source": [
    "# Roman to integers\n",
    "x = \"XCMMMMMM\"\n",
    "le = len(x)\n",
    "print(le)"
   ]
  },
  {
   "cell_type": "code",
   "execution_count": 70,
   "id": "1dc7c5b4",
   "metadata": {},
   "outputs": [],
   "source": [
    "class Solution:\n",
    "    def romanToInt(self, s: str) -> int:\n",
    "        dic = {'I' : 1,'V' : 5,'X' : 10,\n",
    "        'L' : 50,'C' : 100,'D' : 500,'M' : 1000}\n",
    "        sum = 0\n",
    "        le = len(s)\n",
    "        for i in range(len(s)):\n",
    "            print(i)\n",
    "            if i + 1 < len(s) and dic[s[i]] < dic[s[i + 1]]:\n",
    "                sum -= dic[s[i]]\n",
    "                \n",
    "            else:\n",
    "                sum += dic[s[i]]\n",
    "                \n",
    "        return sum"
   ]
  },
  {
   "cell_type": "code",
   "execution_count": 72,
   "id": "575da25a",
   "metadata": {},
   "outputs": [
    {
     "name": "stdout",
     "output_type": "stream",
     "text": [
      "0\n",
      "1\n",
      "2\n",
      "3\n",
      "4\n",
      "5\n",
      "6\n"
     ]
    },
    {
     "data": {
      "text/plain": [
       "1994"
      ]
     },
     "execution_count": 72,
     "metadata": {},
     "output_type": "execute_result"
    }
   ],
   "source": [
    "x = \"MCMXCIV\"\n",
    "sn = Solution()\n",
    "sn.romanToInt(x)"
   ]
  },
  {
   "cell_type": "code",
   "execution_count": null,
   "id": "83bd25ba",
   "metadata": {},
   "outputs": [],
   "source": []
  },
  {
   "cell_type": "code",
   "execution_count": 97,
   "id": "49d246d7",
   "metadata": {},
   "outputs": [],
   "source": [
    "class Solution:\n",
    "    def romanToInt(self, s: str) -> int:\n",
    "        dic = {'I' : 1,'V' : 5,'X' : 10,\n",
    "        'L' : 50,'C' : 100,'D' : 500,'M' : 1000}\n",
    "        sum = 0\n",
    "        le = len(s)\n",
    "        for i in reversed(range(0, le)):\n",
    "            print(i)\n",
    "            if dic[s[i-1]] < dic[s[i]]:   \n",
    "                sum+=dic[s[i]]-2*dic[s[i-1]]\n",
    "                print('1st')\n",
    "                print('sum:', sum ,'roman :', s[i])\n",
    "            else:\n",
    "                sum+=dic[s[i]] \n",
    "                print('2nd')\n",
    "                print('sum:', sum , 'roman :', s[i])\n",
    "        return sum  "
   ]
  },
  {
   "cell_type": "code",
   "execution_count": 98,
   "id": "114b8ac7",
   "metadata": {},
   "outputs": [
    {
     "name": "stdout",
     "output_type": "stream",
     "text": [
      "6\n",
      "1st\n",
      "sum: 3 roman : V\n",
      "5\n",
      "2nd\n",
      "sum: 4 roman : I\n",
      "4\n",
      "1st\n",
      "sum: 84 roman : C\n",
      "3\n",
      "2nd\n",
      "sum: 94 roman : X\n",
      "2\n",
      "1st\n",
      "sum: 894 roman : M\n",
      "1\n",
      "2nd\n",
      "sum: 994 roman : C\n",
      "0\n",
      "1st\n",
      "sum: 1984 roman : M\n"
     ]
    },
    {
     "data": {
      "text/plain": [
       "1984"
      ]
     },
     "execution_count": 98,
     "metadata": {},
     "output_type": "execute_result"
    }
   ],
   "source": [
    "x = \"MCMXCIV\"\n",
    "sn = Solution()\n",
    "sn.romanToInt(x)"
   ]
  },
  {
   "cell_type": "code",
   "execution_count": null,
   "id": "904bc73c",
   "metadata": {},
   "outputs": [],
   "source": []
  }
 ],
 "metadata": {
  "kernelspec": {
   "display_name": "Python 3",
   "language": "python",
   "name": "python3"
  },
  "language_info": {
   "codemirror_mode": {
    "name": "ipython",
    "version": 3
   },
   "file_extension": ".py",
   "mimetype": "text/x-python",
   "name": "python",
   "nbconvert_exporter": "python",
   "pygments_lexer": "ipython3",
   "version": "3.6.12"
  }
 },
 "nbformat": 4,
 "nbformat_minor": 5
}
