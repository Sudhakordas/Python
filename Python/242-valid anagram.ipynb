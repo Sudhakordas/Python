{
 "cells": [
  {
   "cell_type": "code",
   "execution_count": 39,
   "id": "35c96d6e",
   "metadata": {},
   "outputs": [
    {
     "name": "stdout",
     "output_type": "stream",
     "text": [
      "Flase\n",
      "{'a': 2}\n",
      "From t:  a\n",
      "Count 1\n",
      "is  2\n",
      "False\n"
     ]
    }
   ],
   "source": [
    "s = \"aa\"\n",
    "t = \"a\"\n",
    "\n",
    "if len(s) != len(t):\n",
    "    print('Flase')\n",
    "\n",
    "sdict = {}\n",
    "for i in s:\n",
    "    if i not in sdict:\n",
    "        sdict[i] = 1\n",
    "    else:\n",
    "        sdict[i] += 1\n",
    "print(sdict)\n",
    "for i in t:\n",
    "    print('From t: ', i)\n",
    "    print('Count', t.count(i))\n",
    "    print('is ', sdict.get(i))\n",
    "    if (i not in sdict) or (t.count(i) != sdict.get(i)):\n",
    "        print('False')\n",
    "        break\n",
    "else:\n",
    "    print(True)\n",
    "\n",
    "#s = ''.join(set(s))\n",
    "# t = ''.join(set(t))\n",
    "# print(t)\n",
    "\n",
    "# if s == t:\n",
    "#     print('yes')\n"
   ]
  },
  {
   "cell_type": "code",
   "execution_count": null,
   "id": "13a65677",
   "metadata": {},
   "outputs": [],
   "source": []
  }
 ],
 "metadata": {
  "kernelspec": {
   "display_name": "Python 3 (ipykernel)",
   "language": "python",
   "name": "python3"
  },
  "language_info": {
   "codemirror_mode": {
    "name": "ipython",
    "version": 3
   },
   "file_extension": ".py",
   "mimetype": "text/x-python",
   "name": "python",
   "nbconvert_exporter": "python",
   "pygments_lexer": "ipython3",
   "version": "3.9.12"
  }
 },
 "nbformat": 4,
 "nbformat_minor": 5
}
