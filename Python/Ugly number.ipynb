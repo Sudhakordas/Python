{
 "cells": [
  {
   "cell_type": "code",
   "execution_count": 31,
   "id": "c58d260f",
   "metadata": {},
   "outputs": [],
   "source": [
    "class Solution(object):\n",
    "    def isUgly(self, n):\n",
    "        if n<= 0 and 1:\n",
    "            return False\n",
    "        for p in [2,3,5]:\n",
    "            while n%p == 0:\n",
    "                n = n // p\n",
    "                if n==1:\n",
    "                    return True\n",
    "       "
   ]
  },
  {
   "cell_type": "code",
   "execution_count": 32,
   "id": "59893df1",
   "metadata": {},
   "outputs": [],
   "source": [
    "num = 1\n",
    "obj = Solution()\n",
    "obj.isUgly(num)"
   ]
  },
  {
   "cell_type": "code",
   "execution_count": 18,
   "id": "5decf68e",
   "metadata": {},
   "outputs": [
    {
     "name": "stdout",
     "output_type": "stream",
     "text": [
      "2\n",
      "4\n",
      "12\n",
      "48\n"
     ]
    }
   ],
   "source": [
    "i = 1\n",
    "n = 2\n",
    "while n < 20:\n",
    "    n = n * i\n",
    "    print(n)\n",
    "    i+=1"
   ]
  },
  {
   "cell_type": "code",
   "execution_count": null,
   "id": "c6ad2a87",
   "metadata": {},
   "outputs": [],
   "source": []
  }
 ],
 "metadata": {
  "kernelspec": {
   "display_name": "Python 3",
   "language": "python",
   "name": "python3"
  },
  "language_info": {
   "codemirror_mode": {
    "name": "ipython",
    "version": 3
   },
   "file_extension": ".py",
   "mimetype": "text/x-python",
   "name": "python",
   "nbconvert_exporter": "python",
   "pygments_lexer": "ipython3",
   "version": "3.6.13"
  }
 },
 "nbformat": 4,
 "nbformat_minor": 5
}
