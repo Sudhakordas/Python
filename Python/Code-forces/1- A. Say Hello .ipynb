{
 "cells": [
  {
   "cell_type": "code",
   "execution_count": null,
   "id": "dc38dbcb",
   "metadata": {},
   "outputs": [],
   "source": [
    "# Problem one\n",
    "strings = input('')\n",
    "he = 'Hello'\n",
    "print(he + ', ' + strings)"
   ]
  },
  {
   "cell_type": "code",
   "execution_count": null,
   "id": "24d6f526",
   "metadata": {},
   "outputs": [],
   "source": []
  }
 ],
 "metadata": {
  "kernelspec": {
   "display_name": "Python 3 (ipykernel)",
   "language": "python",
   "name": "python3"
  },
  "language_info": {
   "codemirror_mode": {
    "name": "ipython",
    "version": 3
   },
   "file_extension": ".py",
   "mimetype": "text/x-python",
   "name": "python",
   "nbconvert_exporter": "python",
   "pygments_lexer": "ipython3",
   "version": "3.9.12"
  }
 },
 "nbformat": 4,
 "nbformat_minor": 5
}
