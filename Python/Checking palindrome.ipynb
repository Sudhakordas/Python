{
 "cells": [
  {
   "cell_type": "code",
   "execution_count": 31,
   "id": "770c6e52",
   "metadata": {},
   "outputs": [],
   "source": [
    "class Solution(object):\n",
    "    def isPalindrome(self, x):\n",
    "        list2 = [i for i in str(x)]\n",
    "        list1 = list2.copy()\n",
    "        list2.reverse()\n",
    "        if list1 == list2:\n",
    "            print('This is a palindrome.')\n",
    "        else:\n",
    "            print('This is not a palindrome.')"
   ]
  },
  {
   "cell_type": "code",
   "execution_count": 32,
   "id": "9da7d89a",
   "metadata": {},
   "outputs": [
    {
     "name": "stdout",
     "output_type": "stream",
     "text": [
      "This is not a palindrome.\n"
     ]
    }
   ],
   "source": [
    "x = 1212\n",
    "obj = Solution()\n",
    "obj.isPalindrome(x)"
   ]
  },
  {
   "cell_type": "code",
   "execution_count": 26,
   "id": "0ac6a4c1",
   "metadata": {},
   "outputs": [
    {
     "data": {
      "text/plain": [
       "['1', '2', '1', '2']"
      ]
     },
     "execution_count": 26,
     "metadata": {},
     "output_type": "execute_result"
    }
   ],
   "source": [
    "x = 1212\n",
    "list2 = [i for i in str(x)]\n",
    "list1 = list2.copy()\n",
    "list1"
   ]
  },
  {
   "cell_type": "code",
   "execution_count": 27,
   "id": "c80d0ee2",
   "metadata": {},
   "outputs": [
    {
     "data": {
      "text/plain": [
       "['2', '1', '2', '1']"
      ]
     },
     "execution_count": 27,
     "metadata": {},
     "output_type": "execute_result"
    }
   ],
   "source": [
    "list2.reverse()\n",
    "list2"
   ]
  },
  {
   "cell_type": "code",
   "execution_count": 28,
   "id": "544bb6d6",
   "metadata": {},
   "outputs": [
    {
     "name": "stdout",
     "output_type": "stream",
     "text": [
      "This is not a palindrome.\n"
     ]
    }
   ],
   "source": [
    "        if list1 == list2:\n",
    "            print('This is a palindrome.')\n",
    "        else:\n",
    "            print('This is not a palindrome.')"
   ]
  },
  {
   "cell_type": "code",
   "execution_count": null,
   "id": "972331c7",
   "metadata": {},
   "outputs": [],
   "source": []
  }
 ],
 "metadata": {
  "kernelspec": {
   "display_name": "Python 3",
   "language": "python",
   "name": "python3"
  },
  "language_info": {
   "codemirror_mode": {
    "name": "ipython",
    "version": 3
   },
   "file_extension": ".py",
   "mimetype": "text/x-python",
   "name": "python",
   "nbconvert_exporter": "python",
   "pygments_lexer": "ipython3",
   "version": "3.6.12"
  }
 },
 "nbformat": 4,
 "nbformat_minor": 5
}
