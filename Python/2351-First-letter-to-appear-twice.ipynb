{
 "cells": [
  {
   "cell_type": "code",
   "execution_count": 1,
   "id": "ad769342",
   "metadata": {},
   "outputs": [
    {
     "ename": "SyntaxError",
     "evalue": "unexpected EOF while parsing (<ipython-input-1-af0c85961cdf>, line 3)",
     "output_type": "error",
     "traceback": [
      "\u001b[1;36m  File \u001b[1;32m\"<ipython-input-1-af0c85961cdf>\"\u001b[1;36m, line \u001b[1;32m3\u001b[0m\n\u001b[1;33m    \u001b[0m\n\u001b[1;37m    ^\u001b[0m\n\u001b[1;31mSyntaxError\u001b[0m\u001b[1;31m:\u001b[0m unexpected EOF while parsing\n"
     ]
    }
   ],
   "source": [
    "class Solution(object):\n",
    "    def repeatedCharacter(self, s):\n",
    "        dic = {}\n",
    "        for i in lis:\n",
    "            if i not in dic:\n",
    "                dic[i] = 1\n",
    "            else:\n",
    "                dic[i] += 1\n",
    "\n",
    "            if dic[i] == 2:\n",
    "                return i     \n"
   ]
  },
  {
   "cell_type": "code",
   "execution_count": 35,
   "id": "5eb0db43",
   "metadata": {},
   "outputs": [],
   "source": [
    "lis = \"nwcn\"\n",
    "l = 0\n",
    "def repeated(lis):\n",
    "    dic = {}\n",
    "    for i in lis:\n",
    "        if i not in dic:\n",
    "            dic[i] = 1\n",
    "        else:\n",
    "            dic[i] += 1\n",
    "        \n",
    "        if dic[i] == 2:\n",
    "            return i"
   ]
  },
  {
   "cell_type": "code",
   "execution_count": 36,
   "id": "19134824",
   "metadata": {},
   "outputs": [
    {
     "data": {
      "text/plain": [
       "'n'"
      ]
     },
     "execution_count": 36,
     "metadata": {},
     "output_type": "execute_result"
    }
   ],
   "source": [
    "repeated(lis)"
   ]
  },
  {
   "cell_type": "code",
   "execution_count": null,
   "id": "07bbc846",
   "metadata": {},
   "outputs": [],
   "source": []
  }
 ],
 "metadata": {
  "kernelspec": {
   "display_name": "Python 3",
   "language": "python",
   "name": "python3"
  },
  "language_info": {
   "codemirror_mode": {
    "name": "ipython",
    "version": 3
   },
   "file_extension": ".py",
   "mimetype": "text/x-python",
   "name": "python",
   "nbconvert_exporter": "python",
   "pygments_lexer": "ipython3",
   "version": "3.6.13"
  }
 },
 "nbformat": 4,
 "nbformat_minor": 5
}
