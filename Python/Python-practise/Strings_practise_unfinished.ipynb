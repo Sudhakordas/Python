{
 "cells": [
  {
   "cell_type": "code",
   "execution_count": 3,
   "id": "71f312cc",
   "metadata": {},
   "outputs": [
    {
     "name": "stdout",
     "output_type": "stream",
     "text": [
      "Sudhakardas13@gmail.com\n"
     ]
    }
   ],
   "source": [
    "# Double quation marks is used for describing the strings and it can contains characters, digit and special characters.\n",
    "string = \"Sudhakardas13@gmail.com\"\n",
    "print(string)"
   ]
  },
  {
   "cell_type": "code",
   "execution_count": null,
   "id": "86bfc9dc",
   "metadata": {},
   "outputs": [],
   "source": []
  },
  {
   "cell_type": "code",
   "execution_count": 4,
   "id": "f0afd0cd",
   "metadata": {},
   "outputs": [
    {
     "name": "stdout",
     "output_type": "stream",
     "text": [
      "S\n"
     ]
    }
   ],
   "source": [
    "#Indexing \n",
    "# And specific element of an index can be print by it's index.\n",
    "print(string[0])"
   ]
  },
  {
   "cell_type": "markdown",
   "id": "159bc46a",
   "metadata": {},
   "source": [
    "# Slicing"
   ]
  },
  {
   "cell_type": "code",
   "execution_count": 8,
   "id": "301a1af0",
   "metadata": {},
   "outputs": [
    {
     "name": "stdout",
     "output_type": "stream",
     "text": [
      "akar\n",
      "Sudh\n",
      "akardas13@gmail.com\n"
     ]
    }
   ],
   "source": [
    "#Slicing in String\n",
    "print(string[4:8]) # Inclusive for the starting point and exclusive for the ending point\n",
    "print(string[:4]) # Exclusive\n",
    "print(string[4:]) # Inclusive."
   ]
  },
  {
   "cell_type": "code",
   "execution_count": 9,
   "id": "5c631c22",
   "metadata": {},
   "outputs": [
    {
     "data": {
      "text/plain": [
       "23"
      ]
     },
     "execution_count": 9,
     "metadata": {},
     "output_type": "execute_result"
    }
   ],
   "source": [
    "# Calculating the length of a string.\n",
    "len(string) # it means here are 23 element(char, digit, spcha) and len counting starting from 1, be carfull whenever using it in a loop."
   ]
  },
  {
   "cell_type": "markdown",
   "id": "1428b634",
   "metadata": {},
   "source": [
    "# Negative Slicing"
   ]
  },
  {
   "cell_type": "code",
   "execution_count": 27,
   "id": "3f25977f",
   "metadata": {},
   "outputs": [
    {
     "name": "stdout",
     "output_type": "stream",
     "text": [
      "S\n",
      "S\n",
      "S\n",
      "l.c\n"
     ]
    }
   ],
   "source": [
    "#forward slicing starting count from 1\n",
    "# Negative slicing starting form backward.\n",
    "print(string[-23]) # printing the first element\n",
    "print(string[0])\n",
    "print(string[-0])\n",
    "\n",
    "print(string[-5:-2]) # Again exclusive for the last point."
   ]
  },
  {
   "cell_type": "markdown",
   "id": "e7c569d1",
   "metadata": {},
   "source": [
    "# Striding"
   ]
  },
  {
   "cell_type": "code",
   "execution_count": 25,
   "id": "03ee1b87",
   "metadata": {},
   "outputs": [
    {
     "name": "stdout",
     "output_type": "stream",
     "text": [
      "Enter the step5\n"
     ]
    },
    {
     "data": {
      "text/plain": [
       "'Sksmc'"
      ]
     },
     "execution_count": 25,
     "metadata": {},
     "output_type": "execute_result"
    }
   ],
   "source": [
    "#To seelect every n element in the message.\n",
    "step = int(input('Enter the step'))\n",
    "Sub = string[::step]\n",
    "Sub"
   ]
  },
  {
   "cell_type": "code",
   "execution_count": 29,
   "id": "26c36acd",
   "metadata": {},
   "outputs": [
    {
     "data": {
      "text/plain": [
       "'Sh'"
      ]
     },
     "execution_count": 29,
     "metadata": {},
     "output_type": "execute_result"
    }
   ],
   "source": [
    "# corporation of slicing and striding\n",
    "# get every second element in range from index 0 to index 6\n",
    "sub = string[:6:3]\n",
    "sub"
   ]
  },
  {
   "cell_type": "markdown",
   "id": "82e5a57c",
   "metadata": {},
   "source": [
    "# Modifying the strings"
   ]
  },
  {
   "cell_type": "code",
   "execution_count": 33,
   "id": "ee485c70",
   "metadata": {},
   "outputs": [
    {
     "data": {
      "text/plain": [
       "'I have completed my final year exam recently, In my third year i came to know about DS and Ml. I closely associated with it whenever doing my final year project. At that time i started learning about various topic about DS & Ml and was practising and implementing.'"
      ]
     },
     "execution_count": 33,
     "metadata": {},
     "output_type": "execute_result"
    }
   ],
   "source": [
    "SU = 'I have completed my final year exam recently, In my third year i came to know about DS and Ml. I closely associated with it whenever doing my final year project. At that time i started learning about various topic about DS & Ml and was practising and implementing.'\n",
    "Ban"
   ]
  },
  {
   "cell_type": "code",
   "execution_count": 34,
   "id": "0b36323e",
   "metadata": {},
   "outputs": [
    {
     "data": {
      "text/plain": [
       "'I HAVE COMPLETED MY FINAL YEAR EXAM RECENTLY, IN MY THIRD YEAR I CAME TO KNOW ABOUT DS AND ML. I CLOSELY ASSOCIATED WITH IT WHENEVER DOING MY FINAL YEAR PROJECT. AT THAT TIME I STARTED LEARNING ABOUT VARIOUS TOPIC ABOUT DS & ML AND WAS PRACTISING AND IMPLEMENTING.'"
      ]
     },
     "execution_count": 34,
     "metadata": {},
     "output_type": "execute_result"
    }
   ],
   "source": [
    "#Converting into upper case\n",
    "SU_upper = SU.upper()\n",
    "SU_upper"
   ]
  },
  {
   "cell_type": "code",
   "execution_count": 35,
   "id": "1eab3892",
   "metadata": {},
   "outputs": [
    {
     "data": {
      "text/plain": [
       "'i have completed my final year exam recently, in my third year i came to know about ds and ml. i closely associated with it whenever doing my final year project. at that time i started learning about various topic about ds & ml and was practising and implementing.'"
      ]
     },
     "execution_count": 35,
     "metadata": {},
     "output_type": "execute_result"
    }
   ],
   "source": [
    "#Converting into lower case\n",
    "SU_lower = SU.lower()\n",
    "SU_lower"
   ]
  },
  {
   "cell_type": "code",
   "execution_count": 49,
   "id": "4d400781",
   "metadata": {},
   "outputs": [],
   "source": [
    "# strip function is used to remove the whitespace\n",
    "dha = '  And try to work in different types of project amap'\n",
    "dhas = dha.strip()\n"
   ]
  },
  {
   "cell_type": "code",
   "execution_count": 46,
   "id": "729ee37d",
   "metadata": {},
   "outputs": [
    {
     "name": "stdout",
     "output_type": "stream",
     "text": [
      "['And', 'try', 'to', 'work', 'in', 'different', 'types', 'of', 'project', 'asap']\n"
     ]
    },
    {
     "data": {
      "text/plain": [
       "['A-n-d',\n",
       " 't-r-y',\n",
       " 't-o',\n",
       " 'w-o-r-k',\n",
       " 'i-n',\n",
       " 'd-i-f-f-e-r-e-n-t',\n",
       " 't-y-p-e-s',\n",
       " 'o-f',\n",
       " 'p-r-o-j-e-c-t',\n",
       " 'a-s-a-p']"
      ]
     },
     "execution_count": 46,
     "metadata": {},
     "output_type": "execute_result"
    }
   ],
   "source": [
    "#Spliting text on specific seperator\n",
    "split = dha.split( )\n",
    "print(split)\n",
    "#revert = ' '.join(split)\n",
    "revert = ['-'.join(x) for x in split]\n",
    "revert"
   ]
  },
  {
   "cell_type": "code",
   "execution_count": 50,
   "id": "ca5e07c9",
   "metadata": {},
   "outputs": [
    {
     "data": {
      "text/plain": [
       "'And try to work in different types of project asap'"
      ]
     },
     "execution_count": 50,
     "metadata": {},
     "output_type": "execute_result"
    }
   ],
   "source": [
    "dhas"
   ]
  },
  {
   "cell_type": "code",
   "execution_count": 53,
   "id": "8df76c1b",
   "metadata": {},
   "outputs": [
    {
     "data": {
      "text/plain": [
       "'And try to work in different types of research asap'"
      ]
     },
     "execution_count": 53,
     "metadata": {},
     "output_type": "execute_result"
    }
   ],
   "source": [
    "# Replacing the element\n",
    "replaced_das = dhas.replace('project', 'research')\n",
    "replaced_das"
   ]
  },
  {
   "cell_type": "markdown",
   "id": "7b4f89f1",
   "metadata": {},
   "source": [
    "# Concatenation"
   ]
  },
  {
   "cell_type": "code",
   "execution_count": 58,
   "id": "6ca56b6e",
   "metadata": {},
   "outputs": [
    {
     "data": {
      "text/plain": [
       "'I have completed my final year exam recently, In my third year i came to know about DS and Ml. I closely associated with it whenever doing my final year project. At that time i started learning about various topic about DS & Ml and was practising and implementing.    @Adding the two String@    And try to work in different types of project asap'"
      ]
     },
     "execution_count": 58,
     "metadata": {},
     "output_type": "execute_result"
    }
   ],
   "source": [
    "#Concatening the string.\n",
    "final = SU + '    @Adding the two String@    ' + dhas\n",
    "final"
   ]
  },
  {
   "cell_type": "code",
   "execution_count": null,
   "id": "b76d17fc",
   "metadata": {},
   "outputs": [],
   "source": [
    "# And string is iterable like list, dictionary, set\n"
   ]
  }
 ],
 "metadata": {
  "kernelspec": {
   "display_name": "Python 3 (ipykernel)",
   "language": "python",
   "name": "python3"
  },
  "language_info": {
   "codemirror_mode": {
    "name": "ipython",
    "version": 3
   },
   "file_extension": ".py",
   "mimetype": "text/x-python",
   "name": "python",
   "nbconvert_exporter": "python",
   "pygments_lexer": "ipython3",
   "version": "3.9.12"
  }
 },
 "nbformat": 4,
 "nbformat_minor": 5
}
