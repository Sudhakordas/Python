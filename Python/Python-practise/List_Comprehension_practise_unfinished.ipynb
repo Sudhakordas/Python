{
 "cells": [
  {
   "cell_type": "markdown",
   "id": "946416f0",
   "metadata": {},
   "source": [
    "# List Comprehension"
   ]
  },
  {
   "cell_type": "code",
   "execution_count": 44,
   "id": "864d8ef8",
   "metadata": {},
   "outputs": [
    {
     "name": "stdout",
     "output_type": "stream",
     "text": [
      "banana\n",
      "apple\n",
      "mango\n",
      "jackfruit\n"
     ]
    }
   ],
   "source": [
    "fruits = ['banana', 'apple', 'mango', 'jackfruit'] \n",
    "x = [print(fruit) for fruit in fruits] # printing all the element in the fruits\n",
    "\n",
    "#A list comprehension creates a list containing the results of evaluating the expression for each iteration.\n",
    "#As well as the \"side-effect\" of printing out whatever you give it, the print function returns None, so that is what gets stored in the list.\n"
   ]
  },
  {
   "cell_type": "code",
   "execution_count": 38,
   "id": "6ec16d2c",
   "metadata": {},
   "outputs": [
    {
     "name": "stdout",
     "output_type": "stream",
     "text": [
      "6\n",
      "BANANA\n",
      "APPLE\n",
      "MANGO\n",
      "JACKFRUIT\n"
     ]
    }
   ],
   "source": [
    "fruits = ['banana', 'apple', 'mango', 'jackfruit'] \n",
    "print(len(fruits[0]))\n",
    "x = [print(fruit.upper()) for fruit in fruits] # converting into uppercase\n",
    "#print(upper_fruits)\n",
    "#print(fruits)"
   ]
  },
  {
   "cell_type": "code",
   "execution_count": 34,
   "id": "b148d317",
   "metadata": {},
   "outputs": [
    {
     "name": "stdout",
     "output_type": "stream",
     "text": [
      "dfgdg\n",
      "None\n"
     ]
    }
   ],
   "source": [
    "x = print('dfgdg') #print is a function in python and it returns none\n",
    "print(x)"
   ]
  },
  {
   "cell_type": "code",
   "execution_count": 37,
   "id": "61dacc50",
   "metadata": {},
   "outputs": [
    {
     "name": "stdout",
     "output_type": "stream",
     "text": [
      "a\n",
      "x\n",
      "p\n"
     ]
    },
    {
     "data": {
      "text/plain": [
       "[None, None, None]"
      ]
     },
     "execution_count": 37,
     "metadata": {},
     "output_type": "execute_result"
    }
   ],
   "source": [
    ">>> [print(x[0]) for x in ['alpha', 'xray', 'papa']]"
   ]
  },
  {
   "cell_type": "code",
   "execution_count": 45,
   "id": "76cab40b",
   "metadata": {},
   "outputs": [
    {
     "name": "stdout",
     "output_type": "stream",
     "text": [
      "a afs\n",
      "f afs\n",
      "e afs\n"
     ]
    }
   ],
   "source": [
    "x = [print(x[4] + ' afs') for x in ['abcdasde', 'fasff', 'gergeg']]"
   ]
  },
  {
   "cell_type": "markdown",
   "id": "d518bb14",
   "metadata": {},
   "source": [
    "# Finding the Cubic value"
   ]
  },
  {
   "cell_type": "code",
   "execution_count": 56,
   "id": "f90eb212",
   "metadata": {},
   "outputs": [
    {
     "name": "stdout",
     "output_type": "stream",
     "text": [
      "[0, 1, 8, 27, 64]\n",
      "[0, 1, 8, 27, 64]\n",
      "[0.0, 1.0, 8.0, 27.0, 64.0]\n"
     ]
    }
   ],
   "source": [
    "import math\n",
    "from math import *\n",
    "#using loop\n",
    "cubic_value = []\n",
    "for i in range(5):\n",
    "    i**= 3 \n",
    "    cubic_value.append(i)\n",
    "print(cubic_value)\n",
    "\n",
    "\n",
    "\n",
    "new_value = [x**3 for x in range(5)]\n",
    "print(new_value)\n",
    "\n",
    "\n",
    "new_value  = [math.pow(i, 3) for i in range(5)]\n",
    "print(new_value)\n",
    "    "
   ]
  },
  {
   "cell_type": "markdown",
   "id": "54f43568",
   "metadata": {},
   "source": [
    "# finding the even numbers "
   ]
  },
  {
   "cell_type": "code",
   "execution_count": 60,
   "id": "4f0c9a1a",
   "metadata": {},
   "outputs": [
    {
     "name": "stdout",
     "output_type": "stream",
     "text": [
      "[0, 2, 4, 6, 8, 10, 12, 14, 16, 18, 20]\n",
      "[0, 2, 4, 6, 8, 10, 12, 14, 16, 18, 20]\n"
     ]
    }
   ],
   "source": [
    "even = []\n",
    "for i in range(0,21):\n",
    "    if i%2 == 0:\n",
    "        even.append(i)\n",
    "print(even)\n",
    "\n",
    "even = [i for i in range(0,21) if i%2 ==0]\n",
    "print(even)"
   ]
  },
  {
   "cell_type": "markdown",
   "id": "475672fa",
   "metadata": {},
   "source": [
    "Example: The number of insexts in a lab doubles in size every month. Take the initial number of insects as input and output a list, showing the number of insects for each of the next 12 months, starting with 0, which is the initial value. So the resulting list should contain 12 items, each showing the number of insects at the beginning of that month."
   ]
  },
  {
   "cell_type": "code",
   "execution_count": 65,
   "id": "3db7a341",
   "metadata": {},
   "outputs": [
    {
     "name": "stdout",
     "output_type": "stream",
     "text": [
      "Enter the initial insexts: 10\n",
      "[10, 20, 40, 80, 160, 320, 640, 1280, 2560, 5120, 10240, 20480]\n",
      "Enter the initial insexts: 10\n",
      "[10, 20, 40, 80, 160, 320, 640, 1280, 2560, 5120, 10240, 20480]\n"
     ]
    }
   ],
   "source": [
    "fi = int(input('Enter the initial insexts: '))\n",
    "insexts = []\n",
    "se = 0\n",
    "for i in range(12):\n",
    "    final = fi + se \n",
    "    fi = se = final\n",
    "    insexts.append(final)\n",
    "print(insexts)\n",
    "\n",
    "\n",
    "# Using list comprehension\n",
    "fi = int(input('Enter the initial insexts: '))\n",
    "insect_nums = [fi*(2**i) for i in range(0, 12)]\n",
    "print(insect_nums)"
   ]
  },
  {
   "cell_type": "code",
   "execution_count": null,
   "id": "a90260c1",
   "metadata": {},
   "outputs": [],
   "source": []
  }
 ],
 "metadata": {
  "kernelspec": {
   "display_name": "Python 3",
   "language": "python",
   "name": "python3"
  },
  "language_info": {
   "codemirror_mode": {
    "name": "ipython",
    "version": 3
   },
   "file_extension": ".py",
   "mimetype": "text/x-python",
   "name": "python",
   "nbconvert_exporter": "python",
   "pygments_lexer": "ipython3",
   "version": "3.6.13"
  }
 },
 "nbformat": 4,
 "nbformat_minor": 5
}
