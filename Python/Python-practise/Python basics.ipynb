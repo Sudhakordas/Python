{
 "cells": [
  {
   "cell_type": "markdown",
   "id": "8575812d",
   "metadata": {},
   "source": [
    "# Python variable and data types"
   ]
  },
  {
   "cell_type": "markdown",
   "id": "82e3f263",
   "metadata": {},
   "source": [
    "# Integers and float "
   ]
  },
  {
   "cell_type": "code",
   "execution_count": 8,
   "id": "56cf1a7c",
   "metadata": {},
   "outputs": [
    {
     "name": "stdout",
     "output_type": "stream",
     "text": [
      "Money after shopping  25\n",
      "After getting lottary total money is:  5025\n"
     ]
    }
   ],
   "source": [
    "#Addition and substraction\n",
    "\n",
    "Tl_money = 55 # Arithmetic operations\n",
    "ud_money = 30\n",
    "left = 55-30\n",
    "print('Money after shopping ',left)\n",
    "\n",
    "Gt_lottary = 5000\n",
    "in_hand = Gt_lottary + left\n",
    "print('After getting lottary total money is: ', in_hand)"
   ]
  },
  {
   "cell_type": "code",
   "execution_count": null,
   "id": "182ec8bf",
   "metadata": {},
   "outputs": [],
   "source": [
    "# Num_of_student = 500\n",
    "group_members = 12\n",
    "total_group = Num_of_student // group_members  # have to user double backslach only for getting the int value\n",
    "print('Total numbers of group members are: ', total_group)\n"
   ]
  },
  {
   "cell_type": "markdown",
   "id": "25e58db5",
   "metadata": {},
   "source": [
    "# Strings"
   ]
  },
  {
   "cell_type": "code",
   "execution_count": 11,
   "id": "c4f11cd3",
   "metadata": {},
   "outputs": [
    {
     "name": "stdout",
     "output_type": "stream",
     "text": [
      "My name is Sudhakar das i studied in Rnagamati Science and tecnology universtiy\n"
     ]
    }
   ],
   "source": [
    "name = 'Sudhakar das'\n",
    "university  = 'Rnagamati Science and tecnology universtiy'\n",
    "print('My name is', name, 'i studied in', university)"
   ]
  },
  {
   "cell_type": "code",
   "execution_count": 14,
   "id": "5c50b1ed",
   "metadata": {},
   "outputs": [
    {
     "data": {
      "text/plain": [
       "'Sudhakar das is a student of Rnagamati Science and tecnology universtiy bearing the Reg no 2015-12-13'"
      ]
     },
     "execution_count": 14,
     "metadata": {},
     "output_type": "execute_result"
    }
   ],
   "source": [
    "#String concatenation\n",
    "name = 'Sudhakar das'\n",
    "reg = '2015-12-13'\n",
    "st_concat = name + ' is a student of ' + university + ' bearing the Reg no ' + reg \n",
    "st_concat"
   ]
  },
  {
   "cell_type": "code",
   "execution_count": 46,
   "id": "8c382eb6",
   "metadata": {},
   "outputs": [
    {
     "name": "stdout",
     "output_type": "stream",
     "text": [
      "12\n"
     ]
    }
   ],
   "source": [
    "print(len(name))"
   ]
  },
  {
   "cell_type": "markdown",
   "id": "11586b9f",
   "metadata": {},
   "source": [
    "# Boolean"
   ]
  },
  {
   "cell_type": "code",
   "execution_count": 19,
   "id": "6cb9b7bf",
   "metadata": {},
   "outputs": [
    {
     "name": "stdout",
     "output_type": "stream",
     "text": [
      "False\n"
     ]
    }
   ],
   "source": [
    "boolean = ('akash' == 'akas') # We can not use = symbol as it is assignment operators.\n",
    "print(boolean)\n",
    "if boolean:\n",
    "    print('I will do enverything')"
   ]
  },
  {
   "cell_type": "markdown",
   "id": "ce93f0c2",
   "metadata": {},
   "source": [
    "# Data structure are container that can include different Data Type\n",
    "Data Structure can hold data of different Data Type\n",
    "All Data Types are not Data Structure\n",
    "All Data Structure are Data Type\n",
    "A List , Tuple , Dictionary , Set is an example of Data Structure.\n",
    "\n",
    "Data Type defines what type of data should be stored within the variable.\n",
    "\n",
    "\n",
    "Data type define the types of data a variable going to stored and. Data structure is the collection of data of different types and provide a way to access and apply operations on the data. \n",
    "\n",
    "Data types do not store data as it just define tha types of data going to be stored. and Data structure actually store the data.\n"
   ]
  },
  {
   "cell_type": "markdown",
   "id": "4a399f0a",
   "metadata": {},
   "source": [
    "# Data types and the Data structure"
   ]
  },
  {
   "cell_type": "markdown",
   "id": "2a071607",
   "metadata": {},
   "source": [
    "# List"
   ]
  },
  {
   "cell_type": "code",
   "execution_count": 49,
   "id": "32b75345",
   "metadata": {},
   "outputs": [
    {
     "name": "stdout",
     "output_type": "stream",
     "text": [
      "2\n",
      "8\n"
     ]
    },
    {
     "data": {
      "text/plain": [
       "[2, 4, 5, 6, 7, 8, 0, 10, 11, 13]"
      ]
     },
     "execution_count": 49,
     "metadata": {},
     "output_type": "execute_result"
    }
   ],
   "source": [
    "# List is ordered, mutable, hashable, slower than touple and dictionary\n",
    "\n",
    "lis = list()\n",
    "lis = [2,3,4,5,6,7,8]\n",
    "\n",
    "#indexiing we can get the value of any element by it's index.\n",
    "print(lis[0])\n",
    "print(lis[-1]) # Negetive indexing also possible\n",
    "\n",
    "\n",
    "lis.insert(9, 0) #lis.insert(index, object)\n",
    "\n",
    "lis.extend([10,11,12]) # For adding multiple value at a time \n",
    "lis.append(13) # For adding only single  value.\n",
    "lis.remove(12)#Removing  a specofic element from the list and put the value you want to delete.\n",
    "lis.pop(1)# # Removing  a speciic element from the list and put the indexwant to delete.\n",
    "lis"
   ]
  },
  {
   "cell_type": "markdown",
   "id": "69b16aa8",
   "metadata": {},
   "source": [
    "# Slicing"
   ]
  },
  {
   "cell_type": "code",
   "execution_count": 53,
   "id": "0ad33033",
   "metadata": {},
   "outputs": [
    {
     "name": "stdout",
     "output_type": "stream",
     "text": [
      "[4, 5, 6, 7, 8, 0, 10]\n",
      "[13, 11, 10, 0, 8, 7, 6, 5, 4, 2]\n"
     ]
    }
   ],
   "source": [
    "# lis = lis[1:5]  # inclusive for the start index and exclusive for the last index \n",
    "\n",
    "print(lis[1:-2]) # negetive indexing is 1 based and positive is 0 based.\n",
    "reverse = lis[::-1] # for reversing a lis\n",
    "print(reverse)"
   ]
  },
  {
   "cell_type": "code",
   "execution_count": 57,
   "id": "5752cb21",
   "metadata": {},
   "outputs": [
    {
     "name": "stdout",
     "output_type": "stream",
     "text": [
      "['Akash', 'Sudhakar', 'Nippon', 'Moin', 'Rahul']\n"
     ]
    }
   ],
   "source": [
    "# Joining a list using join function\n",
    "my_friends = ['Akash', 'Sudhakar', 'Nippon', ' Moin', 'Rahul']\n",
    "my_friends = ' '.join([i for i in my_friends])\n",
    "print(my_friends.split())\n"
   ]
  },
  {
   "cell_type": "markdown",
   "id": "33cc67d5",
   "metadata": {},
   "source": [
    "# Dictionary"
   ]
  },
  {
   "cell_type": "code",
   "execution_count": 58,
   "id": "7be7d3e9",
   "metadata": {},
   "outputs": [],
   "source": [
    "#Creating Dictionary\n",
    "rmstu = {'Name': ['Akash', 'Rahul', 'Nippon', 'Moin', 'tarek'],\n",
    "         'Batch': '2nd',\n",
    "         'Session': '2015-16',\n",
    "         'Completion': '7 years'\n",
    "        }"
   ]
  },
  {
   "cell_type": "code",
   "execution_count": 59,
   "id": "9b96bae8",
   "metadata": {},
   "outputs": [
    {
     "data": {
      "text/plain": [
       "dict"
      ]
     },
     "execution_count": 59,
     "metadata": {},
     "output_type": "execute_result"
    }
   ],
   "source": [
    "type(rmstu) # deriving the rmstu"
   ]
  },
  {
   "cell_type": "code",
   "execution_count": 75,
   "id": "cde7323f",
   "metadata": {},
   "outputs": [
    {
     "name": "stdout",
     "output_type": "stream",
     "text": [
      "dict_keys(['Name', 'Batch', 'Session', 'Completion'])\n",
      "2nd\n"
     ]
    }
   ],
   "source": [
    "print(rmstu.keys()) # accessing the keys\n",
    "print(list(rmstu.values())[1]) # accessing the values"
   ]
  },
  {
   "cell_type": "code",
   "execution_count": 64,
   "id": "53325894",
   "metadata": {},
   "outputs": [
    {
     "name": "stdout",
     "output_type": "stream",
     "text": [
      "['Akash', 'Rahul', 'Nippon', 'Moin', 'tarek']\n"
     ]
    }
   ],
   "source": [
    "Name = rmstu['Name'] # accessing values of specific key \n",
    "print(rmstu.get('Name'))\n"
   ]
  },
  {
   "cell_type": "code",
   "execution_count": 66,
   "id": "44a87310",
   "metadata": {},
   "outputs": [
    {
     "data": {
      "text/plain": [
       "dict_values(['Dhiman', '2nd', '2015-16', '7 years'])"
      ]
     },
     "execution_count": 66,
     "metadata": {},
     "output_type": "execute_result"
    }
   ],
   "source": [
    "rmstu['Name'] = 'Dhiman' # Updating a new value\n",
    "rmstu.values()"
   ]
  },
  {
   "cell_type": "code",
   "execution_count": 69,
   "id": "b6ae9522",
   "metadata": {},
   "outputs": [
    {
     "name": "stdout",
     "output_type": "stream",
     "text": [
      "dict_items([('Name', 'Dhiman'), ('Batch', '2nd'), ('Session', '2015-16'), ('Completion', '7 years')])\n"
     ]
    }
   ],
   "source": [
    "items = rmstu.items()"
   ]
  },
  {
   "cell_type": "code",
   "execution_count": 76,
   "id": "0c749a9c",
   "metadata": {},
   "outputs": [
    {
     "data": {
      "text/plain": [
       "dict_values([['Dhiman, Sudhakar'], '2nd', '2015-16', '7 years'])"
      ]
     },
     "execution_count": 76,
     "metadata": {},
     "output_type": "execute_result"
    }
   ],
   "source": [
    "#Updating a dictionary\n",
    "rmstu['Name'] = ['Dhiman, Sudhakar']\n",
    "rmstu.values()"
   ]
  },
  {
   "cell_type": "markdown",
   "id": "0487aa80",
   "metadata": {},
   "source": [
    "# Touple"
   ]
  },
  {
   "cell_type": "markdown",
   "id": "47af21a0",
   "metadata": {},
   "source": [
    "# It is not mutable that's all"
   ]
  },
  {
   "cell_type": "code",
   "execution_count": 78,
   "id": "de35700a",
   "metadata": {},
   "outputs": [
    {
     "name": "stdout",
     "output_type": "stream",
     "text": [
      "1\n"
     ]
    }
   ],
   "source": [
    "tou = ('What', 'can', 'i', 'do', 'for', 'you')\n",
    "#I think two methods are available in touple count and index\n",
    "x = tou.count('can')\n",
    "print(tou.index('can'))"
   ]
  },
  {
   "cell_type": "code",
   "execution_count": null,
   "id": "df6ba307",
   "metadata": {},
   "outputs": [],
   "source": []
  }
 ],
 "metadata": {
  "kernelspec": {
   "display_name": "Python 3 (ipykernel)",
   "language": "python",
   "name": "python3"
  },
  "language_info": {
   "codemirror_mode": {
    "name": "ipython",
    "version": 3
   },
   "file_extension": ".py",
   "mimetype": "text/x-python",
   "name": "python",
   "nbconvert_exporter": "python",
   "pygments_lexer": "ipython3",
   "version": "3.9.12"
  }
 },
 "nbformat": 4,
 "nbformat_minor": 5
}
