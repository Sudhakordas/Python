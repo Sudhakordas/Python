{
 "cells": [
  {
   "cell_type": "markdown",
   "id": "8a1e7ca9",
   "metadata": {},
   "source": [
    "# Python Tutorial\n",
    "**Created by Mustafa Germec, PhD**"
   ]
  },
  {
   "cell_type": "markdown",
   "id": "c403e455",
   "metadata": {},
   "source": [
    "## 3. Lists\n",
    "\n",
    "- Lists are ordered.\n",
    "- Lists can contain any arbitrary objects.\n",
    "- List elements can be accessed by index.\n",
    "- Lists can be nested to arbitrary depth.\n",
    "- Lists are mutable.\n",
    "- Lists are dynamic."
   ]
  },
  {
   "cell_type": "markdown",
   "id": "0e8e74ab",
   "metadata": {},
   "source": [
    "<img src=\"https://files.realpython.com/media/List-Comprehensions-in-Python_Watermarked.39cf85bdd5d0.jpg\" width=\"500\" alt=\"lists\"  />"
   ]
  },
  {
   "cell_type": "markdown",
   "id": "3380f77f",
   "metadata": {},
   "source": [
    "### Indexing"
   ]
  },
  {
   "cell_type": "code",
   "execution_count": 1,
   "id": "938618c9",
   "metadata": {},
   "outputs": [
    {
     "data": {
      "text/plain": [
       "['python', 25, 2022]"
      ]
     },
     "execution_count": 1,
     "metadata": {},
     "output_type": "execute_result"
    }
   ],
   "source": [
    "# creatinng a list\n",
    "nlis = ['python', 25, 2022]\n",
    "nlis"
   ]
  },
  {
   "cell_type": "code",
   "execution_count": 7,
   "id": "0ec48d6a",
   "metadata": {},
   "outputs": [
    {
     "name": "stdout",
     "output_type": "stream",
     "text": [
      "Positive and negative indexing of the first element: \n",
      " - Positive index: python \n",
      " - Negative index: python\n",
      "\n",
      "Positive and negative indexing of the second element: \n",
      " - Positive index: 25 \n",
      " - Negative index: 25\n",
      "\n",
      "Positive and negative indexing of the third element: \n",
      " - Positive index: 2022 \n",
      " - Negative index: 2022\n"
     ]
    }
   ],
   "source": [
    "print('Positive and negative indexing of the first element: \\n - Positive index:', nlis[0], '\\n - Negative index:', nlis[-3])\n",
    "print()\n",
    "print('Positive and negative indexing of the second element: \\n - Positive index:', nlis[1], '\\n - Negative index:', nlis[-2])\n",
    "print()\n",
    "print('Positive and negative indexing of the third element: \\n - Positive index:', nlis[2], '\\n - Negative index:', nlis[-1])"
   ]
  },
  {
   "cell_type": "markdown",
   "id": "36a59d5c",
   "metadata": {},
   "source": [
    "### What can content a list?\n",
    "\n",
    "- Strings\n",
    "- Floats\n",
    "- Integer\n",
    "- Boolean\n",
    "- Nested List\n",
    "- Nested Tuple\n",
    "- Other data structures"
   ]
  },
  {
   "cell_type": "code",
   "execution_count": 8,
   "id": "f1c9fc94",
   "metadata": {},
   "outputs": [
    {
     "data": {
      "text/plain": [
       "['python',\n",
       " 3.14,\n",
       " 2022,\n",
       " [1, 1, 2, 3, 5, 8, 13, 21, 34],\n",
       " ('hello', 'python', 3, 14, 2022)]"
      ]
     },
     "execution_count": 8,
     "metadata": {},
     "output_type": "execute_result"
    }
   ],
   "source": [
    "nlis = ['python', 3.14, 2022, [1, 1, 2, 3, 5, 8, 13, 21, 34], ('hello', 'python', 3,14, 2022)]\n",
    "nlis"
   ]
  },
  {
   "cell_type": "markdown",
   "id": "a44adffe",
   "metadata": {},
   "source": [
    "### List operations"
   ]
  },
  {
   "cell_type": "code",
   "execution_count": 10,
   "id": "547996b2",
   "metadata": {},
   "outputs": [
    {
     "data": {
      "text/plain": [
       "['python',\n",
       " 3.14,\n",
       " 2022,\n",
       " [1, 1, 2, 3, 5, 8, 13, 21, 34],\n",
       " ('hello', 'python', 3, 14, 2022)]"
      ]
     },
     "execution_count": 10,
     "metadata": {},
     "output_type": "execute_result"
    }
   ],
   "source": [
    "# take a list\n",
    "nlis = ['python', 3.14, 2022, [1, 1, 2, 3, 5, 8, 13, 21, 34], ('hello', 'python', 3,14, 2022)]\n",
    "nlis"
   ]
  },
  {
   "cell_type": "code",
   "execution_count": 11,
   "id": "8e041c7e",
   "metadata": {},
   "outputs": [
    {
     "data": {
      "text/plain": [
       "5"
      ]
     },
     "execution_count": 11,
     "metadata": {},
     "output_type": "execute_result"
    }
   ],
   "source": [
    "# length of the list\n",
    "len(nlis)"
   ]
  },
  {
   "cell_type": "markdown",
   "id": "71205312",
   "metadata": {},
   "source": [
    "#### Slicing"
   ]
  },
  {
   "cell_type": "code",
   "execution_count": 20,
   "id": "4c95d7ad",
   "metadata": {},
   "outputs": [
    {
     "name": "stdout",
     "output_type": "stream",
     "text": [
      "['python', 3.14]\n",
      "[2022, [1, 1, 2, 3, 5, 8, 13, 21, 34]]\n",
      "[('hello', 'python', 3, 14, 2022)]\n"
     ]
    }
   ],
   "source": [
    "# slicing of a list\n",
    "print(nlis[0:2])\n",
    "print(nlis[2:4])\n",
    "print(nlis[4:6])"
   ]
  },
  {
   "cell_type": "markdown",
   "id": "3dd7f87c",
   "metadata": {},
   "source": [
    "#### Extending the list\n",
    "\n",
    "- we use the **extend()** function to add a new element to the list.\n",
    "- With this function, we add more than one element to the list."
   ]
  },
  {
   "cell_type": "code",
   "execution_count": 25,
   "id": "ca6ea3f0",
   "metadata": {},
   "outputs": [
    {
     "data": {
      "text/plain": [
       "['python',\n",
       " 3.14,\n",
       " 2022,\n",
       " [1, 1, 2, 3, 5, 8, 13, 21, 34],\n",
       " ('hello', 'python', 3, 14, 2022),\n",
       " 'hello world!',\n",
       " 1.618]"
      ]
     },
     "execution_count": 25,
     "metadata": {},
     "output_type": "execute_result"
    }
   ],
   "source": [
    "# take a list\n",
    "nlis = ['python', 3.14, 2022, [1, 1, 2, 3, 5, 8, 13, 21, 34], ('hello', 'python', 3,14, 2022)]\n",
    "nlis.extend(['hello world!', 1.618])\n",
    "nlis"
   ]
  },
  {
   "cell_type": "markdown",
   "id": "19b658b9",
   "metadata": {},
   "source": [
    "#### **append()** method\n",
    "\n",
    "- As different from the **extend()** method, with the **append()** method, we add only one element to the list\n",
    "- You can see the difference by comparing the above and below codes."
   ]
  },
  {
   "cell_type": "code",
   "execution_count": 27,
   "id": "83eaf0eb",
   "metadata": {},
   "outputs": [
    {
     "data": {
      "text/plain": [
       "['python',\n",
       " 3.14,\n",
       " 2022,\n",
       " [1, 1, 2, 3, 5, 8, 13, 21, 34],\n",
       " ('hello', 'python', 3, 14, 2022),\n",
       " ['hello world!', 1.618]]"
      ]
     },
     "execution_count": 27,
     "metadata": {},
     "output_type": "execute_result"
    }
   ],
   "source": [
    "nlis = ['python', 3.14, 2022, [1, 1, 2, 3, 5, 8, 13, 21, 34], ('hello', 'python', 3,14, 2022)]\n",
    "nlis.append(['hello world!', 1.618])\n",
    "nlis"
   ]
  },
  {
   "cell_type": "markdown",
   "id": "facc17b8",
   "metadata": {},
   "source": [
    "#### len(), append(), count(), index(), insert(), max(), min(), sum() functions"
   ]
  },
  {
   "cell_type": "code",
   "execution_count": 99,
   "id": "2519bd0f",
   "metadata": {},
   "outputs": [
    {
     "name": "stdout",
     "output_type": "stream",
     "text": [
      "7\n",
      "[1, 2, 3, 4, 5, 6, 7, 4]\n",
      "2\n",
      "1\n",
      "[1, 2, 3, 4, 5, 6, 7, 4, 9]\n",
      "9\n",
      "1\n",
      "41\n"
     ]
    }
   ],
   "source": [
    "lis = [1,2,3,4,5,6,7]\n",
    "print(len(lis))\n",
    "lis.append(4)\n",
    "print(lis)\n",
    "print(lis.count(4))         # How many 4 are on the list 'lis'?\n",
    "print(lis.index(2))         # What is the index of the number 2 in the list 'lis'?\n",
    "lis.insert(8, 9)                # Add number 9 to the index 8. \n",
    "print(lis)\n",
    "print(max(lis))             # What is the maximum number in the list?\n",
    "print(min(lis))             # What is the minimum number in the list?\n",
    "print(sum(lis))             # What is the sum of the numbers in the list?     "
   ]
  },
  {
   "cell_type": "markdown",
   "id": "0e1f42d8",
   "metadata": {},
   "source": [
    "#### Changing the element of a list since it is **mutable**"
   ]
  },
  {
   "cell_type": "code",
   "execution_count": 31,
   "id": "cd8aeab3",
   "metadata": {},
   "outputs": [
    {
     "name": "stdout",
     "output_type": "stream",
     "text": [
      "Before changing: ['python', 3.14, 2022, [1, 1, 2, 3, 5, 8, 13, 21, 34], ('hello', 'python', 3, 14, 2022)]\n",
      "After changing: ['hello python!', 3.14, 2022, [1, 1, 2, 3, 5, 8, 13, 21, 34], ('hello', 'python', 3, 14, 2022)]\n",
      "After changing: ['hello python!', 1.618, 2022, [1, 1, 2, 3, 5, 8, 13, 21, 34], ('hello', 'python', 3, 14, 2022)]\n",
      "After changing: ['hello python!', 1.618, [3.14, 2022], [1, 1, 2, 3, 5, 8, 13, 21, 34], ('hello', 'python', 3, 14, 2022)]\n"
     ]
    }
   ],
   "source": [
    "nlis = ['python', 3.14, 2022, [1, 1, 2, 3, 5, 8, 13, 21, 34], ('hello', 'python', 3,14, 2022)]\n",
    "print('Before changing:', nlis)\n",
    "nlis[0] = 'hello python!'\n",
    "print('After changing:', nlis)\n",
    "nlis[1] = 1.618\n",
    "print('After changing:', nlis)\n",
    "nlis[2] = [3.14, 2022]\n",
    "print('After changing:', nlis)"
   ]
  },
  {
   "cell_type": "markdown",
   "id": "705317bc",
   "metadata": {},
   "source": [
    "#### Deleting the element from the list using **del()** function"
   ]
  },
  {
   "cell_type": "code",
   "execution_count": 34,
   "id": "b2b196ae",
   "metadata": {},
   "outputs": [
    {
     "name": "stdout",
     "output_type": "stream",
     "text": [
      "Before changing: [1.618, [3.14, 2022], [1, 1, 2, 3, 5, 8, 13, 21, 34], ('hello', 'python', 3, 14, 2022)]\n",
      "After changing: [[3.14, 2022], [1, 1, 2, 3, 5, 8, 13, 21, 34], ('hello', 'python', 3, 14, 2022)]\n",
      "After changing: [[3.14, 2022], [1, 1, 2, 3, 5, 8, 13, 21, 34]]\n"
     ]
    }
   ],
   "source": [
    "print('Before changing:', nlis)\n",
    "del(nlis[0])\n",
    "print('After changing:', nlis)\n",
    "del(nlis[-1])\n",
    "print('After changing:', nlis)"
   ]
  },
  {
   "cell_type": "code",
   "execution_count": 81,
   "id": "17299450",
   "metadata": {},
   "outputs": [
    {
     "name": "stdout",
     "output_type": "stream",
     "text": [
      "Before deleting: ['python', 3.14, 2022, [1, 1, 2, 3, 5, 8, 13, 21, 34], ('hello', 'python', 3, 14, 2022)]\n"
     ]
    },
    {
     "ename": "NameError",
     "evalue": "name 'nlis' is not defined",
     "output_type": "error",
     "traceback": [
      "\u001b[1;31m---------------------------------------------------------------------------\u001b[0m",
      "\u001b[1;31mNameError\u001b[0m                                 Traceback (most recent call last)",
      "\u001b[1;32m~\\AppData\\Local\\Temp/ipykernel_13488/2190443850.py\u001b[0m in \u001b[0;36m<module>\u001b[1;34m\u001b[0m\n\u001b[0;32m      2\u001b[0m \u001b[0mprint\u001b[0m\u001b[1;33m(\u001b[0m\u001b[1;34m'Before deleting:'\u001b[0m\u001b[1;33m,\u001b[0m \u001b[0mnlis\u001b[0m\u001b[1;33m)\u001b[0m\u001b[1;33m\u001b[0m\u001b[1;33m\u001b[0m\u001b[0m\n\u001b[0;32m      3\u001b[0m \u001b[1;32mdel\u001b[0m \u001b[0mnlis\u001b[0m\u001b[1;33m\u001b[0m\u001b[1;33m\u001b[0m\u001b[0m\n\u001b[1;32m----> 4\u001b[1;33m \u001b[0mprint\u001b[0m\u001b[1;33m(\u001b[0m\u001b[1;34m'After deleting:'\u001b[0m\u001b[1;33m,\u001b[0m \u001b[0mnlis\u001b[0m\u001b[1;33m)\u001b[0m\u001b[1;33m\u001b[0m\u001b[1;33m\u001b[0m\u001b[0m\n\u001b[0m",
      "\u001b[1;31mNameError\u001b[0m: name 'nlis' is not defined"
     ]
    }
   ],
   "source": [
    "nlis = ['python', 3.14, 2022, [1, 1, 2, 3, 5, 8, 13, 21, 34], ('hello', 'python', 3,14, 2022)]\n",
    "print('Before deleting:', nlis)\n",
    "del nlis\n",
    "print('After deleting:', nlis)"
   ]
  },
  {
   "cell_type": "markdown",
   "id": "a447951a",
   "metadata": {},
   "source": [
    "#### Conversion of a string into a list using **split()** function"
   ]
  },
  {
   "cell_type": "code",
   "execution_count": 36,
   "id": "c3738e48",
   "metadata": {},
   "outputs": [
    {
     "data": {
      "text/plain": [
       "['Python', 'is', 'a', 'programming', 'language.']"
      ]
     },
     "execution_count": 36,
     "metadata": {},
     "output_type": "execute_result"
    }
   ],
   "source": [
    "message = 'Python is a programming language.'\n",
    "message.split()"
   ]
  },
  {
   "cell_type": "markdown",
   "id": "3132aef5",
   "metadata": {},
   "source": [
    "#### Use of **split()** function with a **delimiter**"
   ]
  },
  {
   "cell_type": "code",
   "execution_count": 57,
   "id": "4805b741",
   "metadata": {},
   "outputs": [
    {
     "data": {
      "text/plain": [
       "['p', 'y', 't', 'h', 'o', 'n']"
      ]
     },
     "execution_count": 57,
     "metadata": {},
     "output_type": "execute_result"
    }
   ],
   "source": [
    "text = 'p,y,t,h,o,n'\n",
    "text.split(\",\" )"
   ]
  },
  {
   "cell_type": "markdown",
   "id": "5d3a14ad",
   "metadata": {},
   "source": [
    "#### Basic operations"
   ]
  },
  {
   "cell_type": "code",
   "execution_count": 90,
   "id": "a40c4efd",
   "metadata": {},
   "outputs": [
    {
     "name": "stdout",
     "output_type": "stream",
     "text": [
      "4\n",
      "6\n",
      "['a', 'b', 'hello', 'Python', 1, 2, 3, 4, 5, 6]\n",
      "['a', 'b', 'hello', 'Python', 'a', 'b', 'hello', 'Python', 'a', 'b', 'hello', 'Python']\n",
      "[1, 2, 3, 4, 5, 6, 1, 2, 3, 4, 5, 6, 1, 2, 3, 4, 5, 6]\n",
      "a\n",
      "b\n",
      "hello\n",
      "Python\n",
      "1\n",
      "2\n",
      "3\n",
      "4\n",
      "5\n",
      "6\n",
      "False\n",
      "True\n"
     ]
    }
   ],
   "source": [
    "nlis_1 = ['a', 'b', 'hello', 'Python']\n",
    "nlis_2 = [1,2,3,4, 5, 6]\n",
    "print(len(nlis_1))\n",
    "print(len(nlis_2))\n",
    "print(nlis_1+nlis_2)\n",
    "print(nlis_1*3)\n",
    "print(nlis_2*3)\n",
    "for i in nlis_1:\n",
    "    print(i)\n",
    "for i in nlis_2:\n",
    "    print(i)\n",
    "print(4 in nlis_1)\n",
    "print(4 in nlis_2)"
   ]
  },
  {
   "cell_type": "markdown",
   "id": "38a6de0a",
   "metadata": {},
   "source": [
    "#### Copy the list"
   ]
  },
  {
   "cell_type": "code",
   "execution_count": 62,
   "id": "499e618c",
   "metadata": {},
   "outputs": [
    {
     "name": "stdout",
     "output_type": "stream",
     "text": [
      "nlis: ['python', 3.14, 2022, [1, 1, 2, 3, 5, 8, 13, 21, 34], ('hello', 'python', 3, 14, 2022)]\n",
      "copy_list: ['python', 3.14, 2022, [1, 1, 2, 3, 5, 8, 13, 21, 34], ('hello', 'python', 3, 14, 2022)]\n"
     ]
    }
   ],
   "source": [
    "nlis = ['python', 3.14, 2022, [1, 1, 2, 3, 5, 8, 13, 21, 34], ('hello', 'python', 3,14, 2022)]\n",
    "copy_list = nlis\n",
    "print('nlis:', nlis)\n",
    "print('copy_list:', copy_list)"
   ]
  },
  {
   "cell_type": "code",
   "execution_count": 70,
   "id": "442b5784",
   "metadata": {},
   "outputs": [
    {
     "name": "stdout",
     "output_type": "stream",
     "text": [
      "['python', 3.14, 2022, [1, 1, 2, 3, 5, 8, 13, 21, 34], ('hello', 'python', 3, 14, 2022)]\n",
      "['python', 3.14, 2022, [1, 1, 2, 3, 5, 8, 13, 21, 34], ('hello', 'python', 3, 14, 2022)]\n",
      "copy_list[0]: python\n",
      "copy_list[0]: hello python!\n"
     ]
    }
   ],
   "source": [
    "# The element in the copied list also changes when the element in the original list was changed. \n",
    "# See the following example\n",
    "\n",
    "nlis = ['python', 3.14, 2022, [1, 1, 2, 3, 5, 8, 13, 21, 34], ('hello', 'python', 3,14, 2022)]\n",
    "print(nlis)\n",
    "copy_list = nlis\n",
    "print(copy_list)\n",
    "print('copy_list[0]:', copy_list[0])\n",
    "nlis[0] = 'hello python!'\n",
    "print('copy_list[0]:', copy_list[0])"
   ]
  },
  {
   "cell_type": "markdown",
   "id": "ba03960b",
   "metadata": {},
   "source": [
    "#### Clone the list"
   ]
  },
  {
   "cell_type": "code",
   "execution_count": 72,
   "id": "2752e027",
   "metadata": {},
   "outputs": [
    {
     "data": {
      "text/plain": [
       "['python',\n",
       " 3.14,\n",
       " 2022,\n",
       " [1, 1, 2, 3, 5, 8, 13, 21, 34],\n",
       " ('hello', 'python', 3, 14, 2022)]"
      ]
     },
     "execution_count": 72,
     "metadata": {},
     "output_type": "execute_result"
    }
   ],
   "source": [
    "# The cloned list is a new copy or clone of the original list.\n",
    "nlis = ['python', 3.14, 2022, [1, 1, 2, 3, 5, 8, 13, 21, 34], ('hello', 'python', 3,14, 2022)]\n",
    "clone_lis = nlis[:]\n",
    "clone_lis"
   ]
  },
  {
   "cell_type": "code",
   "execution_count": 74,
   "id": "4ecae682",
   "metadata": {},
   "outputs": [
    {
     "name": "stdout",
     "output_type": "stream",
     "text": [
      "['python', 3.14, 2022, [1, 1, 2, 3, 5, 8, 13, 21, 34], ('hello', 'python', 3, 14, 2022)]\n",
      "['python', 3.14, 2022, [1, 1, 2, 3, 5, 8, 13, 21, 34], ('hello', 'python', 3, 14, 2022)]\n",
      "clone_list[0]: python\n",
      "nlis[0]: hello, python!\n"
     ]
    }
   ],
   "source": [
    "# When an element in the original list is changed, the element in the cloned list does not change. \n",
    "nlis = ['python', 3.14, 2022, [1, 1, 2, 3, 5, 8, 13, 21, 34], ('hello', 'python', 3,14, 2022)]\n",
    "print(nlis)\n",
    "clone_list = nlis[:]\n",
    "print(clone_list)\n",
    "print('clone_list[0]:', clone_list[0])\n",
    "nlis[0] = 'hello, python!'\n",
    "print('nlis[0]:', nlis[0])"
   ]
  },
  {
   "cell_type": "markdown",
   "id": "4676d7be",
   "metadata": {},
   "source": [
    "#### Concatenate the list"
   ]
  },
  {
   "cell_type": "code",
   "execution_count": 78,
   "id": "3962af16",
   "metadata": {},
   "outputs": [
    {
     "name": "stdout",
     "output_type": "stream",
     "text": [
      "['a', 'b', ['c', 'd'], 'e', 1, 2, 3, 4, 5, (6, 7), True, False]\n"
     ]
    }
   ],
   "source": [
    "a_list = ['a', 'b', ['c', 'd'], 'e']\n",
    "b_list = [1,2,3,4,5,(6,7), True, False]\n",
    "new_list = a_list + b_list\n",
    "print(new_list)"
   ]
  },
  {
   "cell_type": "markdown",
   "id": "b47ebce1",
   "metadata": {},
   "source": [
    "### As different from the **list**, I also find significant the following information. "
   ]
  },
  {
   "cell_type": "markdown",
   "id": "02ce8e52",
   "metadata": {},
   "source": [
    "### **input()** function\n",
    "\n",
    "- **input()** function in Python provides a user of a program supply inputs to the program at runtime."
   ]
  },
  {
   "cell_type": "code",
   "execution_count": 6,
   "id": "d8aca996",
   "metadata": {},
   "outputs": [
    {
     "name": "stdout",
     "output_type": "stream",
     "text": [
      "The text is Hello, Python!\n",
      "<class 'str'>\n"
     ]
    }
   ],
   "source": [
    "text = input('Enter a string:')\n",
    "print('The text is', text)\n",
    "print(type(text))"
   ]
  },
  {
   "cell_type": "code",
   "execution_count": 12,
   "id": "8f4f3d32",
   "metadata": {},
   "outputs": [
    {
     "name": "stdout",
     "output_type": "stream",
     "text": [
      "The number is 15\n",
      "<class 'str'>\n"
     ]
    }
   ],
   "source": [
    "# Although the function wants an integer, the type of the entered number is a string.\n",
    "number = input('Enter an integer: ')\n",
    "print('The number is', number)\n",
    "print(type(number))"
   ]
  },
  {
   "cell_type": "code",
   "execution_count": 15,
   "id": "bd038686",
   "metadata": {},
   "outputs": [
    {
     "name": "stdout",
     "output_type": "stream",
     "text": [
      "The number is 15\n",
      "<class 'int'>\n"
     ]
    }
   ],
   "source": [
    "number = int(input('Enter an integer:'))\n",
    "print('The number is', number)\n",
    "print(type(number))"
   ]
  },
  {
   "cell_type": "code",
   "execution_count": 16,
   "id": "cee65fe5",
   "metadata": {},
   "outputs": [
    {
     "name": "stdout",
     "output_type": "stream",
     "text": [
      "The number is 15.0\n",
      "<class 'float'>\n"
     ]
    }
   ],
   "source": [
    "number = float(input('Enter an integer:'))\n",
    "print('The number is', number)\n",
    "print(type(number))"
   ]
  },
  {
   "cell_type": "markdown",
   "id": "2063199d",
   "metadata": {},
   "source": [
    "#### **eval()** functions\n",
    "\n",
    "- This function serves the aim of converting a string to an integer or a float"
   ]
  },
  {
   "cell_type": "code",
   "execution_count": 17,
   "id": "3c5cff5d",
   "metadata": {},
   "outputs": [
    {
     "name": "stdout",
     "output_type": "stream",
     "text": [
      "Sum of the expression is 15\n",
      "<class 'str'>\n",
      "<class 'int'>\n"
     ]
    }
   ],
   "source": [
    "expression = '8+7'\n",
    "total = eval(expression)\n",
    "print('Sum of the expression is', total)\n",
    "print(type(expression))\n",
    "print(type(total))"
   ]
  },
  {
   "cell_type": "markdown",
   "id": "f540f579",
   "metadata": {},
   "source": [
    "#### **format()** function\n",
    "\n",
    "- This function helps to format the output printed on the secreen with good look and attractive."
   ]
  },
  {
   "cell_type": "code",
   "execution_count": 22,
   "id": "17f3d5fd",
   "metadata": {},
   "outputs": [
    {
     "name": "stdout",
     "output_type": "stream",
     "text": [
      "Sum of 3.14 and 1.618 is 4.758.\n"
     ]
    }
   ],
   "source": [
    "a = float(input('Enter the pi number:'))\n",
    "b = float(input('Enter the golden ratio:'))\n",
    "total = a + b\n",
    "print('Sum of {} and {} is {}.'.format(a, b, total))"
   ]
  },
  {
   "cell_type": "code",
   "execution_count": 25,
   "id": "bb5af4e1",
   "metadata": {},
   "outputs": [
    {
     "name": "stdout",
     "output_type": "stream",
     "text": [
      "I like apple and kebab.\n",
      "I like apple and kebab.\n",
      "I like kebab and apple.\n"
     ]
    }
   ],
   "source": [
    "a = input('Enter your favorite fruit:')\n",
    "b = input('Enter your favorite food:')\n",
    "print('I like {} and {}.'.format(a, b))\n",
    "print('I like {0} and {1}.'.format(a, b))\n",
    "print('I like {1} and {0}.'.format(a, b))"
   ]
  },
  {
   "cell_type": "markdown",
   "id": "b4c77c62",
   "metadata": {},
   "source": [
    "#### Comparison operators\n",
    "\n",
    "- The operators such as **<, >, <=, >=, ==, and !=** compare the certain two operands and return *True* or *False*."
   ]
  },
  {
   "cell_type": "code",
   "execution_count": 27,
   "id": "cf1104f3",
   "metadata": {},
   "outputs": [
    {
     "name": "stdout",
     "output_type": "stream",
     "text": [
      "a>b is: True\n",
      "a<b is: False\n",
      "a<=b is: False\n",
      "a>=b is: True\n",
      "a==b is: False\n",
      "a!=b is: True\n"
     ]
    }
   ],
   "source": [
    "a = 3.14\n",
    "b = 1.618\n",
    "print('a>b is:', a>b)\n",
    "print('a<b is:', a<b)\n",
    "print('a<=b is:', a<=b)\n",
    "print('a>=b is:', a>=b)\n",
    "print('a==b is:', a==b)\n",
    "print('a!=b is:', a!=b)"
   ]
  },
  {
   "cell_type": "markdown",
   "id": "d5978626",
   "metadata": {},
   "source": [
    "#### Logical operators\n",
    "\n",
    "- The operators including **and, or, not** are utilized to bring two conditions together and assess them. The output returns *True* or *False*"
   ]
  },
  {
   "cell_type": "code",
   "execution_count": 35,
   "id": "111e3d94",
   "metadata": {},
   "outputs": [
    {
     "name": "stdout",
     "output_type": "stream",
     "text": [
      "True\n",
      "False\n",
      "True\n",
      "True\n",
      "False\n"
     ]
    }
   ],
   "source": [
    "a = 3.14\n",
    "b = 1.618\n",
    "c = 12\n",
    "d = 3.14\n",
    "print(a>b and c>a)\n",
    "print(b>c and d>a)\n",
    "print(b<c or d>a)\n",
    "print( not a==b)\n",
    "print(not a==d)"
   ]
  },
  {
   "cell_type": "markdown",
   "id": "eb2ec73f",
   "metadata": {},
   "source": [
    "#### Assignment operators\n",
    "\n",
    "- The operators including =, +=, -=, *=, /=, %=, //=, **=, &=, |=, ^=, >>=, and <<= are employed to evaluate a value to a variable."
   ]
  },
  {
   "cell_type": "code",
   "execution_count": 42,
   "id": "5979153a",
   "metadata": {},
   "outputs": [
    {
     "name": "stdout",
     "output_type": "stream",
     "text": [
      "8.14\n"
     ]
    }
   ],
   "source": [
    "x = 3.14\n",
    "x+=5\n",
    "print(x)"
   ]
  },
  {
   "cell_type": "code",
   "execution_count": 43,
   "id": "f215bc37",
   "metadata": {},
   "outputs": [
    {
     "name": "stdout",
     "output_type": "stream",
     "text": [
      "-1.8599999999999999\n"
     ]
    }
   ],
   "source": [
    "x = 3.14\n",
    "x-=5\n",
    "print(x)"
   ]
  },
  {
   "cell_type": "code",
   "execution_count": 44,
   "id": "5845ab08",
   "metadata": {},
   "outputs": [
    {
     "name": "stdout",
     "output_type": "stream",
     "text": [
      "15.700000000000001\n"
     ]
    }
   ],
   "source": [
    "x = 3.14\n",
    "x*=5\n",
    "print(x)"
   ]
  },
  {
   "cell_type": "code",
   "execution_count": 45,
   "id": "6ea3e6ce",
   "metadata": {},
   "outputs": [
    {
     "name": "stdout",
     "output_type": "stream",
     "text": [
      "0.628\n"
     ]
    }
   ],
   "source": [
    "x = 3.14\n",
    "x/=5\n",
    "print(x)"
   ]
  },
  {
   "cell_type": "code",
   "execution_count": 46,
   "id": "9ee726df",
   "metadata": {},
   "outputs": [
    {
     "name": "stdout",
     "output_type": "stream",
     "text": [
      "3.14\n"
     ]
    }
   ],
   "source": [
    "x = 3.14\n",
    "x%=5\n",
    "print(x)"
   ]
  },
  {
   "cell_type": "code",
   "execution_count": 47,
   "id": "c30ab48b",
   "metadata": {},
   "outputs": [
    {
     "name": "stdout",
     "output_type": "stream",
     "text": [
      "0.0\n"
     ]
    }
   ],
   "source": [
    "x = 3.14\n",
    "x//=5\n",
    "print(x)"
   ]
  },
  {
   "cell_type": "code",
   "execution_count": 48,
   "id": "5d8887af",
   "metadata": {},
   "outputs": [
    {
     "name": "stdout",
     "output_type": "stream",
     "text": [
      "305.2447761824001\n"
     ]
    }
   ],
   "source": [
    "x = 3.14\n",
    "x**=5\n",
    "print(x)"
   ]
  },
  {
   "cell_type": "markdown",
   "id": "a77744ee",
   "metadata": {},
   "source": [
    "#### Identity operators\n",
    "\n",
    "- The operators **is** or **is not** are employed to control if the operands or objects to the left and right of these operators are referring to a value stored in the same momory location and return *True* or *False*."
   ]
  },
  {
   "cell_type": "code",
   "execution_count": 74,
   "id": "64326b4f",
   "metadata": {},
   "outputs": [
    {
     "name": "stdout",
     "output_type": "stream",
     "text": [
      "False\n",
      "True\n",
      "False\n",
      "True\n",
      "False\n",
      "True\n"
     ]
    }
   ],
   "source": [
    "a = 3.14\n",
    "b = 1.618\n",
    "print(a is b)\n",
    "print(a is not b)\n",
    "msg1= 'Hello, Python!'\n",
    "msg2 = 'Hello, World!'\n",
    "print(msg1 is msg2)\n",
    "print(msg1 is not msg2)\n",
    "lis1 = [3.14, 1.618]\n",
    "lis2 = [3.14, 1.618]\n",
    "print(lis1 is lis2)             # You should see a list copy behavior\n",
    "print(lis1 is not lis2)"
   ]
  },
  {
   "cell_type": "markdown",
   "id": "cef91a7e",
   "metadata": {},
   "source": [
    "#### Membership operators\n",
    "\n",
    "- These operators inclusing **in** and **not in** are employed to check if the certain value is available in the sequence of values and return *True* or *False*."
   ]
  },
  {
   "cell_type": "code",
   "execution_count": 79,
   "id": "c802f3a4",
   "metadata": {},
   "outputs": [
    {
     "name": "stdout",
     "output_type": "stream",
     "text": [
      "False\n",
      "False\n",
      "True\n",
      "True\n"
     ]
    }
   ],
   "source": [
    "# take a list\n",
    "nlis = [4, 6, 7, 8, 'hello', (4,5), {'name': 'Python'}, {1,2,3}, [1,2,3]]\n",
    "print(5 in nlis)\n",
    "print(4 not in nlis)\n",
    "print((4,5) in nlis)\n",
    "print(9 not in nlis)"
   ]
  }
 ],
 "metadata": {
  "interpreter": {
   "hash": "b7377f19eab4b8c2e19b4d5b732c435591579d0f123dd21b146d33dfd161e508"
  },
  "kernelspec": {
   "display_name": "Python 3",
   "language": "python",
   "name": "python3"
  },
  "language_info": {
   "codemirror_mode": {
    "name": "ipython",
    "version": 3
   },
   "file_extension": ".py",
   "mimetype": "text/x-python",
   "name": "python",
   "nbconvert_exporter": "python",
   "pygments_lexer": "ipython3",
   "version": "3.6.13"
  }
 },
 "nbformat": 4,
 "nbformat_minor": 5
}
