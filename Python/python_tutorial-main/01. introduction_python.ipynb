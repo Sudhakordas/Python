{
 "cells": [
  {
   "cell_type": "markdown",
   "metadata": {},
   "source": [
    "<img src=\"https://www.linux-magazin.de/wp-content/uploads/2019/11/python-logo-master-v3-TM.png\" width=\"1100\" alt=\"lists\"  />"
   ]
  },
  {
   "cell_type": "markdown",
   "metadata": {},
   "source": [
    "# Python Tutorial\n",
    "**Created by Mustafa Germec, PhD**"
   ]
  },
  {
   "cell_type": "markdown",
   "metadata": {},
   "source": [
    "## 1. Introduction to Python"
   ]
  },
  {
   "cell_type": "markdown",
   "metadata": {},
   "source": [
    "#### First code"
   ]
  },
  {
   "cell_type": "code",
   "execution_count": 4,
   "metadata": {},
   "outputs": [],
   "source": [
    "import handcalcs.render"
   ]
  },
  {
   "cell_type": "code",
   "execution_count": 2,
   "metadata": {},
   "outputs": [
    {
     "name": "stdout",
     "output_type": "stream",
     "text": [
      "Hello World!\n",
      "Hi, Python!\n"
     ]
    }
   ],
   "source": [
    "# First python output with 'Print' functions\n",
    "print('Hello World!')\n",
    "print('Hi, Python!')"
   ]
  },
  {
   "cell_type": "markdown",
   "metadata": {},
   "source": [
    "#### Version control"
   ]
  },
  {
   "cell_type": "code",
   "execution_count": 10,
   "metadata": {},
   "outputs": [
    {
     "name": "stdout",
     "output_type": "stream",
     "text": [
      "3.10.0 (tags/v3.10.0:b494f59, Oct  4 2021, 19:00:18) [MSC v.1929 64 bit (AMD64)]\n",
      "3.10\n",
      "<built-in function gettrace>\n",
      "['c:\\\\Users\\\\test\\\\AppData\\\\Local\\\\Programs\\\\Python\\\\Python310\\\\lib\\\\site-packages\\\\ipykernel_launcher.py', '--ip=127.0.0.1', '--stdin=9008', '--control=9006', '--hb=9005', '--Session.signature_scheme=\"hmac-sha256\"', '--Session.key=b\"ca6e4e4e-b431-4942-98fd-61b49a098170\"', '--shell=9007', '--transport=\"tcp\"', '--iopub=9009', '--f=c:\\\\Users\\\\test\\\\AppData\\\\Roaming\\\\jupyter\\\\runtime\\\\kernel-17668h2JS6UX2d6li.json']\n"
     ]
    }
   ],
   "source": [
    "# Python version check\n",
    "import sys\n",
    "print(sys.version)      # version control\n",
    "print(sys.winver)       # [Windows only] version number of the Python DLL\n",
    "print(sys.gettrace)     # get the global debug tracing function\n",
    "print(sys.argv)             # keeps the parameters used while running the program we wrote in a list.\n"
   ]
  },
  {
   "cell_type": "markdown",
   "metadata": {},
   "source": [
    "#### help() function"
   ]
  },
  {
   "cell_type": "code",
   "execution_count": 11,
   "metadata": {},
   "outputs": [
    {
     "name": "stdout",
     "output_type": "stream",
     "text": [
      "Help on built-in module sys:\n",
      "\n",
      "NAME\n",
      "    sys\n",
      "\n",
      "MODULE REFERENCE\n",
      "    https://docs.python.org/3.10/library/sys.html\n",
      "    \n",
      "    The following documentation is automatically generated from the Python\n",
      "    source files.  It may be incomplete, incorrect or include features that\n",
      "    are considered implementation detail and may vary between Python\n",
      "    implementations.  When in doubt, consult the module reference at the\n",
      "    location listed above.\n",
      "\n",
      "DESCRIPTION\n",
      "    This module provides access to some objects used or maintained by the\n",
      "    interpreter and to functions that interact strongly with the interpreter.\n",
      "    \n",
      "    Dynamic objects:\n",
      "    \n",
      "    argv -- command line arguments; argv[0] is the script pathname if known\n",
      "    path -- module search path; path[0] is the script directory, else ''\n",
      "    modules -- dictionary of loaded modules\n",
      "    \n",
      "    displayhook -- called to show results in an interactive session\n",
      "    excepthook -- called to handle any uncaught exception other than SystemExit\n",
      "      To customize printing in an interactive session or to install a custom\n",
      "      top-level exception handler, assign other functions to replace these.\n",
      "    \n",
      "    stdin -- standard input file object; used by input()\n",
      "    stdout -- standard output file object; used by print()\n",
      "    stderr -- standard error object; used for error messages\n",
      "      By assigning other file objects (or objects that behave like files)\n",
      "      to these, it is possible to redirect all of the interpreter's I/O.\n",
      "    \n",
      "    last_type -- type of last uncaught exception\n",
      "    last_value -- value of last uncaught exception\n",
      "    last_traceback -- traceback of last uncaught exception\n",
      "      These three are only available in an interactive session after a\n",
      "      traceback has been printed.\n",
      "    \n",
      "    Static objects:\n",
      "    \n",
      "    builtin_module_names -- tuple of module names built into this interpreter\n",
      "    copyright -- copyright notice pertaining to this interpreter\n",
      "    exec_prefix -- prefix used to find the machine-specific Python library\n",
      "    executable -- absolute path of the executable binary of the Python interpreter\n",
      "    float_info -- a named tuple with information about the float implementation.\n",
      "    float_repr_style -- string indicating the style of repr() output for floats\n",
      "    hash_info -- a named tuple with information about the hash algorithm.\n",
      "    hexversion -- version information encoded as a single integer\n",
      "    implementation -- Python implementation information.\n",
      "    int_info -- a named tuple with information about the int implementation.\n",
      "    maxsize -- the largest supported length of containers.\n",
      "    maxunicode -- the value of the largest Unicode code point\n",
      "    platform -- platform identifier\n",
      "    prefix -- prefix used to find the Python library\n",
      "    thread_info -- a named tuple with information about the thread implementation.\n",
      "    version -- the version of this interpreter as a string\n",
      "    version_info -- version information as a named tuple\n",
      "    dllhandle -- [Windows only] integer handle of the Python DLL\n",
      "    winver -- [Windows only] version number of the Python DLL\n",
      "    _enablelegacywindowsfsencoding -- [Windows only]\n",
      "    __stdin__ -- the original stdin; don't touch!\n",
      "    __stdout__ -- the original stdout; don't touch!\n",
      "    __stderr__ -- the original stderr; don't touch!\n",
      "    __displayhook__ -- the original displayhook; don't touch!\n",
      "    __excepthook__ -- the original excepthook; don't touch!\n",
      "    \n",
      "    Functions:\n",
      "    \n",
      "    displayhook() -- print an object to the screen, and save it in builtins._\n",
      "    excepthook() -- print an exception and its traceback to sys.stderr\n",
      "    exc_info() -- return thread-safe information about the current exception\n",
      "    exit() -- exit the interpreter by raising SystemExit\n",
      "    getdlopenflags() -- returns flags to be used for dlopen() calls\n",
      "    getprofile() -- get the global profiling function\n",
      "    getrefcount() -- return the reference count for an object (plus one :-)\n",
      "    getrecursionlimit() -- return the max recursion depth for the interpreter\n",
      "    getsizeof() -- return the size of an object in bytes\n",
      "    gettrace() -- get the global debug tracing function\n",
      "    setdlopenflags() -- set the flags to be used for dlopen() calls\n",
      "    setprofile() -- set the global profiling function\n",
      "    setrecursionlimit() -- set the max recursion depth for the interpreter\n",
      "    settrace() -- set the global debug tracing function\n",
      "\n",
      "FUNCTIONS\n",
      "    __breakpointhook__ = breakpointhook(...)\n",
      "        breakpointhook(*args, **kws)\n",
      "        \n",
      "        This hook function is called by built-in breakpoint().\n",
      "    \n",
      "    __displayhook__ = displayhook(object, /)\n",
      "        Print an object to sys.stdout and also save it in builtins._\n",
      "    \n",
      "    __excepthook__ = excepthook(exctype, value, traceback, /)\n",
      "        Handle an exception by displaying it with a traceback on sys.stderr.\n",
      "    \n",
      "    __unraisablehook__ = unraisablehook(unraisable, /)\n",
      "        Handle an unraisable exception.\n",
      "        \n",
      "        The unraisable argument has the following attributes:\n",
      "        \n",
      "        * exc_type: Exception type.\n",
      "        * exc_value: Exception value, can be None.\n",
      "        * exc_traceback: Exception traceback, can be None.\n",
      "        * err_msg: Error message, can be None.\n",
      "        * object: Object causing the exception, can be None.\n",
      "    \n",
      "    addaudithook(hook)\n",
      "        Adds a new audit hook callback.\n",
      "    \n",
      "    audit(...)\n",
      "        audit(event, *args)\n",
      "        \n",
      "        Passes the event to any audit hooks that are attached.\n",
      "    \n",
      "    call_tracing(func, args, /)\n",
      "        Call func(*args), while tracing is enabled.\n",
      "        \n",
      "        The tracing state is saved, and restored afterwards.  This is intended\n",
      "        to be called from a debugger from a checkpoint, to recursively debug\n",
      "        some other code.\n",
      "    \n",
      "    exc_info()\n",
      "        Return current exception information: (type, value, traceback).\n",
      "        \n",
      "        Return information about the most recent exception caught by an except\n",
      "        clause in the current stack frame or in an older stack frame.\n",
      "    \n",
      "    exit(status=None, /)\n",
      "        Exit the interpreter by raising SystemExit(status).\n",
      "        \n",
      "        If the status is omitted or None, it defaults to zero (i.e., success).\n",
      "        If the status is an integer, it will be used as the system exit status.\n",
      "        If it is another kind of object, it will be printed and the system\n",
      "        exit status will be one (i.e., failure).\n",
      "    \n",
      "    get_asyncgen_hooks()\n",
      "        Return the installed asynchronous generators hooks.\n",
      "        \n",
      "        This returns a namedtuple of the form (firstiter, finalizer).\n",
      "    \n",
      "    get_coroutine_origin_tracking_depth()\n",
      "        Check status of origin tracking for coroutine objects in this thread.\n",
      "    \n",
      "    getallocatedblocks()\n",
      "        Return the number of memory blocks currently allocated.\n",
      "    \n",
      "    getdefaultencoding()\n",
      "        Return the current default encoding used by the Unicode implementation.\n",
      "    \n",
      "    getfilesystemencodeerrors()\n",
      "        Return the error mode used Unicode to OS filename conversion.\n",
      "    \n",
      "    getfilesystemencoding()\n",
      "        Return the encoding used to convert Unicode filenames to OS filenames.\n",
      "    \n",
      "    getprofile()\n",
      "        Return the profiling function set with sys.setprofile.\n",
      "        \n",
      "        See the profiler chapter in the library manual.\n",
      "    \n",
      "    getrecursionlimit()\n",
      "        Return the current value of the recursion limit.\n",
      "        \n",
      "        The recursion limit is the maximum depth of the Python interpreter\n",
      "        stack.  This limit prevents infinite recursion from causing an overflow\n",
      "        of the C stack and crashing Python.\n",
      "    \n",
      "    getrefcount(object, /)\n",
      "        Return the reference count of object.\n",
      "        \n",
      "        The count returned is generally one higher than you might expect,\n",
      "        because it includes the (temporary) reference as an argument to\n",
      "        getrefcount().\n",
      "    \n",
      "    getsizeof(...)\n",
      "        getsizeof(object [, default]) -> int\n",
      "        \n",
      "        Return the size of object in bytes.\n",
      "    \n",
      "    getswitchinterval()\n",
      "        Return the current thread switch interval; see sys.setswitchinterval().\n",
      "    \n",
      "    gettrace()\n",
      "        Return the global debug tracing function set with sys.settrace.\n",
      "        \n",
      "        See the debugger chapter in the library manual.\n",
      "    \n",
      "    getwindowsversion()\n",
      "        Return info about the running version of Windows as a named tuple.\n",
      "        \n",
      "        The members are named: major, minor, build, platform, service_pack,\n",
      "        service_pack_major, service_pack_minor, suite_mask, product_type and\n",
      "        platform_version. For backward compatibility, only the first 5 items\n",
      "        are available by indexing. All elements are numbers, except\n",
      "        service_pack and platform_type which are strings, and platform_version\n",
      "        which is a 3-tuple. Platform is always 2. Product_type may be 1 for a\n",
      "        workstation, 2 for a domain controller, 3 for a server.\n",
      "        Platform_version is a 3-tuple containing a version number that is\n",
      "        intended for identifying the OS rather than feature detection.\n",
      "    \n",
      "    intern(string, /)\n",
      "        ``Intern'' the given string.\n",
      "        \n",
      "        This enters the string in the (global) table of interned strings whose\n",
      "        purpose is to speed up dictionary lookups. Return the string itself or\n",
      "        the previously interned string object with the same value.\n",
      "    \n",
      "    is_finalizing()\n",
      "        Return True if Python is exiting.\n",
      "    \n",
      "    set_asyncgen_hooks(...)\n",
      "        set_asyncgen_hooks(* [, firstiter] [, finalizer])\n",
      "        \n",
      "        Set a finalizer for async generators objects.\n",
      "    \n",
      "    set_coroutine_origin_tracking_depth(depth)\n",
      "        Enable or disable origin tracking for coroutine objects in this thread.\n",
      "        \n",
      "        Coroutine objects will track 'depth' frames of traceback information\n",
      "        about where they came from, available in their cr_origin attribute.\n",
      "        \n",
      "        Set a depth of 0 to disable.\n",
      "    \n",
      "    setprofile(...)\n",
      "        setprofile(function)\n",
      "        \n",
      "        Set the profiling function.  It will be called on each function call\n",
      "        and return.  See the profiler chapter in the library manual.\n",
      "    \n",
      "    setrecursionlimit(limit, /)\n",
      "        Set the maximum depth of the Python interpreter stack to n.\n",
      "        \n",
      "        This limit prevents infinite recursion from causing an overflow of the C\n",
      "        stack and crashing Python.  The highest possible limit is platform-\n",
      "        dependent.\n",
      "    \n",
      "    setswitchinterval(interval, /)\n",
      "        Set the ideal thread switching delay inside the Python interpreter.\n",
      "        \n",
      "        The actual frequency of switching threads can be lower if the\n",
      "        interpreter executes long sequences of uninterruptible code\n",
      "        (this is implementation-specific and workload-dependent).\n",
      "        \n",
      "        The parameter must represent the desired switching delay in seconds\n",
      "        A typical value is 0.005 (5 milliseconds).\n",
      "    \n",
      "    settrace(...)\n",
      "        settrace(function)\n",
      "        \n",
      "        Set the global debug tracing function.  It will be called on each\n",
      "        function call.  See the debugger chapter in the library manual.\n",
      "    \n",
      "    unraisablehook(unraisable, /)\n",
      "        Handle an unraisable exception.\n",
      "        \n",
      "        The unraisable argument has the following attributes:\n",
      "        \n",
      "        * exc_type: Exception type.\n",
      "        * exc_value: Exception value, can be None.\n",
      "        * exc_traceback: Exception traceback, can be None.\n",
      "        * err_msg: Error message, can be None.\n",
      "        * object: Object causing the exception, can be None.\n",
      "\n",
      "DATA\n",
      "    __stderr__ = <_io.TextIOWrapper name='<stderr>' mode='w' encoding='utf...\n",
      "    __stdin__ = <_io.TextIOWrapper name='<stdin>' mode='r' encoding='utf-8...\n",
      "    __stdout__ = <_io.TextIOWrapper name='<stdout>' mode='w' encoding='utf...\n",
      "    api_version = 1013\n",
      "    argv = [r'c:\\Users\\test\\AppData\\Local\\Programs\\Python\\Python310\\lib\\si...\n",
      "    base_exec_prefix = r'c:\\Users\\test\\AppData\\Local\\Programs\\Python\\Pytho...\n",
      "    base_prefix = r'c:\\Users\\test\\AppData\\Local\\Programs\\Python\\Python310'\n",
      "    builtin_module_names = ('_abc', '_ast', '_bisect', '_blake2', '_codecs...\n",
      "    byteorder = 'little'\n",
      "    copyright = 'Copyright (c) 2001-2021 Python Software Foundati...ematis...\n",
      "    displayhook = <ipykernel.displayhook.ZMQShellDisplayHook object>\n",
      "    dllhandle = 140715044306944\n",
      "    dont_write_bytecode = False\n",
      "    exec_prefix = r'c:\\Users\\test\\AppData\\Local\\Programs\\Python\\Python310'\n",
      "    executable = r'c:\\Users\\test\\AppData\\Local\\Programs\\Python\\Python310\\p...\n",
      "    flags = sys.flags(debug=0, inspect=0, interactive=0, opt...mode=False,...\n",
      "    float_info = sys.float_info(max=1.7976931348623157e+308, max_...epsilo...\n",
      "    float_repr_style = 'short'\n",
      "    hash_info = sys.hash_info(width=64, modulus=2305843009213693...iphash2...\n",
      "    hexversion = 50987248\n",
      "    implementation = namespace(name='cpython', cache_tag='cpython-310...as...\n",
      "    int_info = sys.int_info(bits_per_digit=30, sizeof_digit=4)\n",
      "    last_value = NameError(\"name 'winver' is not defined\")\n",
      "    maxsize = 9223372036854775807\n",
      "    maxunicode = 1114111\n",
      "    meta_path = [<class '_frozen_importlib.BuiltinImporter'>, <class '_fro...\n",
      "    modules = {'IPython': <module 'IPython' from 'c:\\\\Users\\\\test\\\\AppData...\n",
      "    orig_argv = [r'c:\\Users\\test\\AppData\\Local\\Programs\\Python\\Python310\\p...\n",
      "    path = [r'c:\\Users\\test\\Desktop\\PROGRAMMING_WEB DEVELOPMENT', r'c:\\Use...\n",
      "    path_hooks = [<class 'zipimport.zipimporter'>, <function FileFinder.pa...\n",
      "    path_importer_cache = {r'C:\\Users\\test\\.ipython\\extensions': FileFinde...\n",
      "    platform = 'win32'\n",
      "    platlibdir = 'lib'\n",
      "    prefix = r'c:\\Users\\test\\AppData\\Local\\Programs\\Python\\Python310'\n",
      "    ps1 = 'In : '\n",
      "    ps2 = '...: '\n",
      "    ps3 = 'Out: '\n",
      "    pycache_prefix = None\n",
      "    stderr = <ipykernel.iostream.OutStream object>\n",
      "    stdin = <_io.TextIOWrapper name='<stdin>' mode='r' encoding='utf-8'>\n",
      "    stdlib_module_names = frozenset({'__future__', '_abc', '_aix_support',...\n",
      "    stdout = <ipykernel.iostream.OutStream object>\n",
      "    thread_info = sys.thread_info(name='nt', lock=None, version=None)\n",
      "    version = '3.10.0 (tags/v3.10.0:b494f59, Oct  4 2021, 19:00:18) [MSC v...\n",
      "    version_info = sys.version_info(major=3, minor=10, micro=0, releaselev...\n",
      "    warnoptions = []\n",
      "    winver = '3.10'\n",
      "\n",
      "FILE\n",
      "    (built-in)\n",
      "\n",
      "\n"
     ]
    }
   ],
   "source": [
    "# The Python help function is used to display the documentation of modules, functions, classes, keywords, etc.\n",
    "help(sys)       # here the module name is 'sys'"
   ]
  },
  {
   "cell_type": "markdown",
   "metadata": {},
   "source": [
    "#### Comment"
   ]
  },
  {
   "cell_type": "code",
   "execution_count": 12,
   "metadata": {},
   "outputs": [
    {
     "name": "stdout",
     "output_type": "stream",
     "text": [
      "Hello World!\n",
      "Hello\n"
     ]
    }
   ],
   "source": [
    "# This is a comment, and to write a comment, '#' symbol is used.\n",
    "print('Hello World!')       # This line prints a string.\n",
    "\n",
    "# Print 'Hello'\n",
    "print('Hello')"
   ]
  },
  {
   "cell_type": "markdown",
   "metadata": {},
   "source": [
    "#### Errors"
   ]
  },
  {
   "cell_type": "code",
   "execution_count": 13,
   "metadata": {},
   "outputs": [
    {
     "ename": "NameError",
     "evalue": "name 'frint' is not defined",
     "output_type": "error",
     "traceback": [
      "\u001b[1;31m---------------------------------------------------------------------------\u001b[0m",
      "\u001b[1;31mNameError\u001b[0m                                 Traceback (most recent call last)",
      "\u001b[1;32m~\\AppData\\Local\\Temp/ipykernel_13804/1191913539.py\u001b[0m in \u001b[0;36m<module>\u001b[1;34m\u001b[0m\n\u001b[0;32m      1\u001b[0m \u001b[1;31m# Print string as error message\u001b[0m\u001b[1;33m\u001b[0m\u001b[1;33m\u001b[0m\u001b[0m\n\u001b[1;32m----> 2\u001b[1;33m \u001b[0mfrint\u001b[0m\u001b[1;33m(\u001b[0m\u001b[1;34m'Hello, World!'\u001b[0m\u001b[1;33m)\u001b[0m\u001b[1;33m\u001b[0m\u001b[1;33m\u001b[0m\u001b[0m\n\u001b[0m",
      "\u001b[1;31mNameError\u001b[0m: name 'frint' is not defined"
     ]
    }
   ],
   "source": [
    "# Print string as error message\n",
    "frint('Hello, World!')"
   ]
  },
  {
   "cell_type": "code",
   "execution_count": 14,
   "metadata": {},
   "outputs": [
    {
     "ename": "SyntaxError",
     "evalue": "unterminated string literal (detected at line 2) (Temp/ipykernel_13804/974508531.py, line 2)",
     "output_type": "error",
     "traceback": [
      "\u001b[1;36m  File \u001b[1;32m\"C:\\Users\\test\\AppData\\Local\\Temp/ipykernel_13804/974508531.py\"\u001b[1;36m, line \u001b[1;32m2\u001b[0m\n\u001b[1;33m    print('Hello, World!)\u001b[0m\n\u001b[1;37m          ^\u001b[0m\n\u001b[1;31mSyntaxError\u001b[0m\u001b[1;31m:\u001b[0m unterminated string literal (detected at line 2)\n"
     ]
    }
   ],
   "source": [
    "# Built-in error message\n",
    "print('Hello, World!)"
   ]
  },
  {
   "cell_type": "code",
   "execution_count": 15,
   "metadata": {},
   "outputs": [
    {
     "name": "stdout",
     "output_type": "stream",
     "text": [
      "This string is printed\n"
     ]
    },
    {
     "ename": "NameError",
     "evalue": "name 'frint' is not defined",
     "output_type": "error",
     "traceback": [
      "\u001b[1;31m---------------------------------------------------------------------------\u001b[0m",
      "\u001b[1;31mNameError\u001b[0m                                 Traceback (most recent call last)",
      "\u001b[1;32m~\\AppData\\Local\\Temp/ipykernel_13804/3194197137.py\u001b[0m in \u001b[0;36m<module>\u001b[1;34m\u001b[0m\n\u001b[0;32m      1\u001b[0m \u001b[1;31m# Print both string and error to see the running order\u001b[0m\u001b[1;33m\u001b[0m\u001b[1;33m\u001b[0m\u001b[0m\n\u001b[0;32m      2\u001b[0m \u001b[0mprint\u001b[0m\u001b[1;33m(\u001b[0m\u001b[1;34m'This string is printed'\u001b[0m\u001b[1;33m)\u001b[0m\u001b[1;33m\u001b[0m\u001b[1;33m\u001b[0m\u001b[0m\n\u001b[1;32m----> 3\u001b[1;33m \u001b[0mfrint\u001b[0m\u001b[1;33m(\u001b[0m\u001b[1;34m'This gives an error message'\u001b[0m\u001b[1;33m)\u001b[0m\u001b[1;33m\u001b[0m\u001b[1;33m\u001b[0m\u001b[0m\n\u001b[0m\u001b[0;32m      4\u001b[0m \u001b[0mprint\u001b[0m\u001b[1;33m(\u001b[0m\u001b[1;34m'This string will not be printed'\u001b[0m\u001b[1;33m)\u001b[0m\u001b[1;33m\u001b[0m\u001b[1;33m\u001b[0m\u001b[0m\n",
      "\u001b[1;31mNameError\u001b[0m: name 'frint' is not defined"
     ]
    }
   ],
   "source": [
    "# Print both string and error to see the running order\n",
    "print('This string is printed')\n",
    "frint('This gives an error message')\n",
    "print('This string will not be printed')"
   ]
  },
  {
   "cell_type": "markdown",
   "metadata": {},
   "source": [
    "#### Basic data types in Python"
   ]
  },
  {
   "cell_type": "markdown",
   "metadata": {},
   "source": [
    "<a align='center'>\n",
    "    <img src='https://files.realpython.com/media/Basic-Data-Types-in-Python_Watermarked.49e17138407b.jpg' width='600'>\n",
    "</a>"
   ]
  },
  {
   "cell_type": "code",
   "execution_count": 27,
   "metadata": {},
   "outputs": [
    {
     "name": "stdout",
     "output_type": "stream",
     "text": [
      "Hello, World!\n",
      "12\n",
      "3.14\n",
      "True\n",
      "False\n",
      "True\n",
      "False\n"
     ]
    }
   ],
   "source": [
    "# String\n",
    "print(\"Hello, World!\")\n",
    "# Integer\n",
    "print(12)\n",
    "# Float\n",
    "print(3.14)\n",
    "# Boolean\n",
    "print(True)\n",
    "print(False)\n",
    "print(bool(1))      # Output = True\n",
    "print(bool(0))      # Output = False\n"
   ]
  },
  {
   "cell_type": "markdown",
   "metadata": {},
   "source": [
    "#### type() function"
   ]
  },
  {
   "cell_type": "code",
   "execution_count": 29,
   "metadata": {},
   "outputs": [
    {
     "name": "stdout",
     "output_type": "stream",
     "text": [
      "<class 'str'>\n",
      "<class 'int'>\n",
      "<class 'int'>\n",
      "<class 'int'>\n",
      "<class 'int'>\n",
      "<class 'float'>\n",
      "<class 'float'>\n",
      "<class 'float'>\n",
      "<class 'float'>\n",
      "<class 'bool'>\n",
      "<class 'bool'>\n"
     ]
    }
   ],
   "source": [
    "# String\n",
    "print(type('Hello, World!'))\n",
    "\n",
    "# Integer\n",
    "print(type(15))\n",
    "print(type(-24))\n",
    "print(type(0))\n",
    "print(type(1))\n",
    "\n",
    "# Float\n",
    "print(type(3.14))\n",
    "print(type(0.5))\n",
    "print(type(1.0))\n",
    "print(type(-5.0))\n",
    "\n",
    "# Boolean\n",
    "print(type(True))\n",
    "print(type(False))"
   ]
  },
  {
   "cell_type": "code",
   "execution_count": 25,
   "metadata": {},
   "outputs": [
    {
     "name": "stdout",
     "output_type": "stream",
     "text": [
      "sys.int_info(bits_per_digit=30, sizeof_digit=4)\n",
      "\n",
      "sys.float_info(max=1.7976931348623157e+308, max_exp=1024, max_10_exp=308, min=2.2250738585072014e-308, min_exp=-1021, min_10_exp=-307, dig=15, mant_dig=53, epsilon=2.220446049250313e-16, radix=2, rounds=1)\n"
     ]
    }
   ],
   "source": [
    "# to obtain the information about 'interger' and 'float'\n",
    "print(sys.int_info)\n",
    "print()                         # to add a space between two outputs, use 'print()' function\n",
    "print(sys.float_info)"
   ]
  },
  {
   "cell_type": "markdown",
   "metadata": {},
   "source": [
    "#### Converting an abject type to another object type"
   ]
  },
  {
   "cell_type": "code",
   "execution_count": 35,
   "metadata": {},
   "outputs": [
    {
     "name": "stdout",
     "output_type": "stream",
     "text": [
      "6\n",
      "6.0\n",
      "<class 'int'>\n",
      "<class 'str'>\n",
      "<class 'float'>\n"
     ]
    },
    {
     "data": {
      "text/plain": [
       "'6'"
      ]
     },
     "execution_count": 35,
     "metadata": {},
     "output_type": "execute_result"
    }
   ],
   "source": [
    "# Let's convert the integer number 6 to a string and a float\n",
    "\n",
    "number = 6\n",
    "\n",
    "print(str(number))\n",
    "print(float(number))\n",
    "print(type(number))\n",
    "print(type(str(number)))\n",
    "print(type(float(number)))\n",
    "str(number)"
   ]
  },
  {
   "cell_type": "code",
   "execution_count": 37,
   "metadata": {},
   "outputs": [
    {
     "name": "stdout",
     "output_type": "stream",
     "text": [
      "3.14\n",
      "3\n",
      "<class 'float'>\n",
      "<class 'str'>\n",
      "<class 'int'>\n"
     ]
    },
    {
     "data": {
      "text/plain": [
       "'3.14'"
      ]
     },
     "execution_count": 37,
     "metadata": {},
     "output_type": "execute_result"
    }
   ],
   "source": [
    "# Let's conver the float number 3.14 to a string and an integer\n",
    "\n",
    "number = 3.14\n",
    "\n",
    "print(str(number))\n",
    "print(int(number))\n",
    "print(type(number))\n",
    "print(type(str(number)))\n",
    "print(type(int(number)))\n",
    "str(number)"
   ]
  },
  {
   "cell_type": "code",
   "execution_count": 42,
   "metadata": {},
   "outputs": [
    {
     "name": "stdout",
     "output_type": "stream",
     "text": [
      "1\n",
      "0\n",
      "1.0\n",
      "0.0\n",
      "True\n",
      "False\n",
      "True\n",
      "False\n"
     ]
    }
   ],
   "source": [
    "# Let's convert the booleans to an integer,  a float, and a string\n",
    "\n",
    "bool_1 = True\n",
    "bool_2 = False\n",
    "\n",
    "print(int(bool_1))\n",
    "print(int(bool_2))\n",
    "print(float(bool_1))\n",
    "print(float(bool_2))\n",
    "print(str(bool_1))\n",
    "print(str(bool_2))\n",
    "print(bool(1))\n",
    "print(bool(0))"
   ]
  },
  {
   "cell_type": "code",
   "execution_count": 46,
   "metadata": {},
   "outputs": [
    {
     "name": "stdout",
     "output_type": "stream",
     "text": [
      "3.0\n",
      "2\n",
      "<class 'float'>\n",
      "<class 'int'>\n"
     ]
    }
   ],
   "source": [
    "# Let's find the data types of 9/3 and 9//4\n",
    "\n",
    "print(9/3)\n",
    "print(9//4)\n",
    "print(type(9/3))\n",
    "print(type(9//4))"
   ]
  },
  {
   "cell_type": "markdown",
   "metadata": {},
   "source": [
    "#### Experesion and variables"
   ]
  },
  {
   "cell_type": "code",
   "execution_count": 47,
   "metadata": {},
   "outputs": [
    {
     "name": "stdout",
     "output_type": "stream",
     "text": [
      "431.7\n",
      "<class 'float'>\n"
     ]
    }
   ],
   "source": [
    "# Addition\n",
    "\n",
    "x = 56+65+89+45+78.5+98.2\n",
    "print(x)\n",
    "print(type(x))"
   ]
  },
  {
   "cell_type": "code",
   "execution_count": 48,
   "metadata": {},
   "outputs": [
    {
     "name": "stdout",
     "output_type": "stream",
     "text": [
      "4\n",
      "<class 'int'>\n"
     ]
    }
   ],
   "source": [
    "# Substraction\n",
    "\n",
    "x = 85-52-21-8\n",
    "print(x)\n",
    "print(type(x))"
   ]
  },
  {
   "cell_type": "code",
   "execution_count": 49,
   "metadata": {},
   "outputs": [
    {
     "name": "stdout",
     "output_type": "stream",
     "text": [
      "592\n",
      "<class 'int'>\n"
     ]
    }
   ],
   "source": [
    "# Multiplication\n",
    "\n",
    "x = 8*74\n",
    "print(x)\n",
    "print(type(x))"
   ]
  },
  {
   "cell_type": "code",
   "execution_count": 50,
   "metadata": {},
   "outputs": [
    {
     "name": "stdout",
     "output_type": "stream",
     "text": [
      "5.208333333333333\n",
      "<class 'float'>\n"
     ]
    }
   ],
   "source": [
    "# Division\n",
    "\n",
    "x = 125/24\n",
    "print(x)\n",
    "print(type(x))"
   ]
  },
  {
   "cell_type": "code",
   "execution_count": 51,
   "metadata": {},
   "outputs": [
    {
     "name": "stdout",
     "output_type": "stream",
     "text": [
      "5\n",
      "<class 'int'>\n"
     ]
    }
   ],
   "source": [
    "# Floor division\n",
    "\n",
    "x = 125//24\n",
    "print(x)\n",
    "print(type(x))"
   ]
  },
  {
   "cell_type": "code",
   "execution_count": 52,
   "metadata": {},
   "outputs": [
    {
     "name": "stdout",
     "output_type": "stream",
     "text": [
      "5\n",
      "<class 'int'>\n"
     ]
    }
   ],
   "source": [
    "# Modulus\n",
    "\n",
    "x = 125%24\n",
    "print(x)\n",
    "print(type(x))"
   ]
  },
  {
   "cell_type": "code",
   "execution_count": 54,
   "metadata": {},
   "outputs": [
    {
     "name": "stdout",
     "output_type": "stream",
     "text": [
      "8\n",
      "<class 'int'>\n"
     ]
    }
   ],
   "source": [
    "# Exponentiation\n",
    "\n",
    "x = 2**3\n",
    "print(x)\n",
    "print(type(x))"
   ]
  },
  {
   "cell_type": "code",
   "execution_count": 56,
   "metadata": {},
   "outputs": [
    {
     "name": "stdout",
     "output_type": "stream",
     "text": [
      "1200\n",
      "<class 'int'>\n",
      "5.8\n",
      "<class 'float'>\n"
     ]
    }
   ],
   "source": [
    "# An example: Let's calculate how many minutes there are in 20 hours?\n",
    "\n",
    "one_hour = 60       # 60 minutes\n",
    "hour = 20\n",
    "minutes = one_hour *hour\n",
    "print(minutes)\n",
    "print(type(minutes))\n",
    "\n",
    "# An example: Let's calculate how many hours there are in 348 minutes?\n",
    "\n",
    "minutes = 348\n",
    "one_hour = 60\n",
    "hours = 348/60\n",
    "print(hours)\n",
    "print(type(hours))"
   ]
  },
  {
   "cell_type": "code",
   "execution_count": 57,
   "metadata": {
    "scrolled": true
   },
   "outputs": [
    {
     "name": "stdout",
     "output_type": "stream",
     "text": [
      "312\n",
      "4272\n",
      "4584\n",
      "-3960\n",
      "1332864\n",
      "0.07303370786516854\n",
      "106764199167287649605554376373081784961189430306931493889556878541263403954002216688428743890341298063062142643611547988366237942127177343103591136201873077048553130787246373784413835009801652141537511130496428252345316433301059252139523910338594414308819431610621847043225489424826149872487789309094682282558124209932422054457355942893935706933289840196191187747301112830107448513231858429992761218679164101636444032930435771562516453083564435414559235582600151873226528287408677813227333412905261688524005256624038623662294237808277371997593998912667896831712792141180654000924337006775278052474872726377253010429179230961274610199709972018821656789423406359174060212611294727986571959777654952011794250637017985358080908216601447588481225599020031390728573271218289796869021285323813625335270974018872855233694196882336288630021223834404511661194298932452264999156099033727713855480854355371150599738557878712977577549271433343813379749929657561109032988835580585216092640612223164570913525512670029673834624186970132731885063633490286869816267116022850711291300730029398184689724964401635968014416006752408173907688299132168027630933159948201475263620124033097454167552874769580750572768536232057072836692747916545382704495886726653503557104569826738079815324618288334039076954316926964176144516801003942271474329159423194087001952320133263540787867323228560442611012542142088053706362634895360958683956071894298898275289575383990034416358647916025457617283044607150480067042215869291483350336006549248094246438696250080375208389461534853963152534164311981773333081098410305604829527446429676417593080887690716264087479272802801177928627019844338665504449942540252132224791393970054432608788587562964379101809673430739599135323155399832911668044620482009870025584493631148081851265376163103623562636387083932249894673001189744675371946275440365214654161414187030316648573222711835090080081897318300219091548245869334499977213608090446333258285781824122555715598499936719807827911143734551737624831645414556246691913161032429691949623249029853465910493538885314221796981865742062923668895728326074578208241709310004897251557428296032789067547486740192181391908859292119042333485960699513008994753111824412890390017121726969137720487194766161641244508636895641239842977175447098647696380000200601425457682932541424495840785297373343412092075704302175257106378815608869646461537867953037510714459707217905592259999912561471574087292229144681691045198307081603957970540631092904041275921597876900972900755292298162431716184190791412975756134160262682646323761541886261157163246543340734316160172951204369909284367422694003269863774148928793291915969509044808949436863330594309604418397549203216024899386834187882667613212086395315903060781966499106065496575998411192369605649732896520232659110078163366766396924820170443793295864862055239765764886615349315756654762394679720860927255248257903260508892594074251163309549833439313094400350182045130276659485650885602920547122788100336756451230359197707295010445629960379187771884371899800828897555201031016847625162792800651103118503681830485399157159784101527009177787347506142281832358052092991520401207615250009572655299882019296034942719718661285846838808934962130135038621976266858901427303893012659111887199414857205521162128556671552246693248259135495518066170791372005717080374330756739563074148217549182721539000440672863417653818918971054931761885346523340178063832122746190858336952642065518703658958590506919255597436781690581320252733183623644575336940681017851761674854552609352938273032295062139780487444512525951520401913098762308585919002068787781314520995637110702995570869861042647538423922752093051966520168878481396039406213366895420020493155613875832176925622262738906382371772990871883635467268860034427758036552526029234655452703164046562825351915904424601540290334128603211118191317089516497054917603124340977570216031818512682953752269854779079697434466541359538774597600982910935005055415700888730113962534578396907004674510699688115114239304326848340679191496490328075666274933516569087188601690957762795857158697153340327470923540353402594213039642939269098237297466918407872801352528344109932563316818187017474117917146347638300323550862777328083521362876715107291385142597813131288674580934279606607731846749496165120301251045111757666517301790243674120269285804312048431469862103499874651474662185845910620699984383738103255902787639593009575801155914929901600758286861488238083119043206357191532206344718169282919522014001548136211987781277499497952529901620166666071490042652109533029231909756515165834983245291299934857559140685642338334003302924093084782021778113214888165415357268032783374640126158054350445258263214362804681830456703757031170684990735569751511433026347700829125125730585047521290684039538034046831119430538335937416520403181650606933258044392244571720830013340319264941709035221019402305558239272729315429526618543924103320626915068572185023757382713023893056349581557843136721781023901237921557722144367638686874526223160473716592976991690326139661942437040468078065251569416039873226259172717015798797948596855998975242342711030337375043441281664379729175543851249355620124390586225229792894123673107803288521650496545676084561238832438979392228351076613343913905252103033931624844839919373048519189920464337630171032033549423871804114561982518231947107171561239828027154960684578814262277695072220083246941357396519556497954583137487523910519965893155637785146128259538559260027758426512366434176528059907146111804728425965236368727059039788741395275952303383831179009864148595849790220421421644829133738324154039065171580521425707741824665732326894555340769847394100724785507576931938257727997605422173758311047852051466874019230368062089784640916217891357966512652307743981799490300748785599561922221405163425218852423519128052331679493060816108711356031446298397695783045183794979015363134173192551003604171352540606379828468835885060141993030252168630656147922271984598735234941719838704044649522396112261904643657147368395984450483719546262524486766922745433952891223346866793485274639861751074752695187293094731995250144969109294087467492434064858747516258392831664510519332645497844052591284172676530616446296908457234348811370221016311939841337204807561188464588149192181845823265036727776143144592820683644693967386041097198497500315921552561300818695817916085711186424177776949572256017491243184398798492023185257267748681319738204633644543014836371947540587470008465276177552553234608719110897116422276120579342924324187520408533270553886276014263179179528666501808363320570370452066532791040468127831053995948679596449449800230553033085294214283559208821703016747172471592646508326628899514804486573561230195634104785581655563105026602981956508466321169440473874483730830201039181451114344400574925847186963039315085463574546636868638425234512394593481086651205236924953932000318375900186067899141509891492117055793035852947407715561185926871245783228906911727791050899965555159673220381951632419440030500324644448749934357612862429168699058305217936142869057149944469358345739210851751563457075683021133638525231666700514332193424917810026371828565623597140453834850111320654743614076015771670488044665370047639141480621563835183196365771922563010778953752358347412160128528798927782612122322108437207844802533124052027687743673345645354407519568370384296576412066534775150836154041702758146274346296955550140437370675634622433116308840111038787469014315731960812765067360128438979282485450833201119288606049588429605336098478997026616105613094434227896779486426534736056143781871790900891800536959252808781094713837356730884816493496508616758362538451464651712869803633010940287080580181269019026232498252491687899063050063462109238597916331247327663291696742614333695178256233412493282926446621493375434374814065501692625581592989069418629985529287847726895020024163648545122660871125512693003192830003948739025974642788863847370893643262786234597769100828554177657771423888741041985360835613308154547956357475691179172694351653059342526895651245649364459580402228702746098401495117966536947973225366393609345390599387744025066787658584043702592002201302738785603711154600695727107693273926358678775119385195257031515981436527737741728764691067948140605794639748689569347550248113650907833158659419812324506593992055499028289793777477427489085465952516285116556997533392145439861894625945705058566726369877010505775680494227865249586817936213382623385669662830749450474981641036684888836309420665593081517191738342314434133981514605583814609535988113128168802756715268344279110763082514705148404926333019276364127381900274982793975023907025514239996053585335333580125767040023326556849379626151845309051458872745997606397735395779558409558761095781871694462211031049836179161329260649319341242283701983883710853412443893717626557798402927786201533370750327875890708287578548914517538407385256797250117637822494708570394447552752761075322510952124277115637380545987671482035373410491457368879070162057223710126802979178921538392543456813781865219186598634056637653640515831912911101808733206260460320168021006474304584943029955859419770391723331331941405926089147503439070381347551610125841561348526140582160229631218887091987140449848823066369464695262633216039969252838708263284257138661025557093015023143880441861958171612931986517343997349788433308312521166715253271353850146995221922904341763627647423673293149107913554536085893006669810113332479328712820760039313752183001022750710747193995477927696342193422299029309657906910153235652815040621955398608785705740122638653264219603877570118177696906178872873244882327381280853263628546410112270518905994133207228655145236100941700654789687684919116135915560253541819222424848512804392804349777024775231969342032697685353494421220446807748989984463584305028185732016688761018816646962486170616160562447711750458454877856219862302418178738054682360121995953799059448216349297276045406090916685734475821039248716167989737932995363955375459883317586249912714616375977512244254163459086888032612286360613134831620633769945790451995449344223171774431297988423836125738390270218058615158554059728886527888309585939793070323504482634470637866728727012772500883741246129495617476217623080187868102601949911716035992486748007483284135024216800455377471747889521903534210603461174396446444002814189339902907785474683085645608883568845292059750792213213511795857412515364549171034983114170436406585915498634906070632175280637079269273742133501967626487909774310367160105659033123814658661816665229454868786819785567400976805687489082934757358780515856214435459495827563077779810007344486547456\n",
      "0\n",
      "312\n"
     ]
    }
   ],
   "source": [
    "# Mathematica expression\n",
    "x = 45+3*89\n",
    "y = (45+3)*89\n",
    "print(x)\n",
    "print(y)\n",
    "print(x+y)\n",
    "print(x-y)\n",
    "print(x*y)\n",
    "print(x/y)\n",
    "print(x**y)\n",
    "print(x//y)\n",
    "print(x%y)"
   ]
  },
  {
   "cell_type": "markdown",
   "metadata": {},
   "source": [
    "#### Variables"
   ]
  },
  {
   "cell_type": "code",
   "execution_count": 58,
   "metadata": {},
   "outputs": [
    {
     "name": "stdout",
     "output_type": "stream",
     "text": [
      "90\n",
      "<class 'int'>\n"
     ]
    }
   ],
   "source": [
    "# Store the value 89 into the variabe 'number'\n",
    "\n",
    "number = 90\n",
    "print(number)\n",
    "print(type(number))"
   ]
  },
  {
   "cell_type": "code",
   "execution_count": 62,
   "metadata": {},
   "outputs": [
    {
     "name": "stdout",
     "output_type": "stream",
     "text": [
      "-49\n",
      "-7.0\n",
      "-3.5\n"
     ]
    }
   ],
   "source": [
    "x = 25\n",
    "y = 87\n",
    "z = 5*x - 2*y\n",
    "print(z)\n",
    "\n",
    "t = z/7\n",
    "print(t)\n",
    "\n",
    "z = z/14\n",
    "print(z)"
   ]
  },
  {
   "cell_type": "code",
   "execution_count": 68,
   "metadata": {},
   "outputs": [
    {
     "name": "stdout",
     "output_type": "stream",
     "text": [
      "8 4 2\n",
      "8\n",
      "4\n",
      "2\n",
      "2.0\n",
      "4.0\n",
      "2.0\n",
      "14\n",
      "64\n",
      "2\n",
      "1.0\n",
      "1\n",
      "0\n"
     ]
    }
   ],
   "source": [
    "x, y, z = 8, 4, 2       # the values of x, y, and z can be written in one line. \n",
    "print(x, y, z)\n",
    "print(x)\n",
    "print(y)\n",
    "print(z)\n",
    "print(x/y)\n",
    "print(x/z)\n",
    "print(y/z)\n",
    "print(x+y+z)\n",
    "print(x*y*z)\n",
    "print(x-y-z)\n",
    "print(x/y/z)\n",
    "print(x//y//z)\n",
    "print(x%y%z)\n"
   ]
  }
 ],
 "metadata": {
  "interpreter": {
   "hash": "b7377f19eab4b8c2e19b4d5b732c435591579d0f123dd21b146d33dfd161e508"
  },
  "kernelspec": {
   "display_name": "Python 3 (ipykernel)",
   "language": "python",
   "name": "python3"
  },
  "language_info": {
   "codemirror_mode": {
    "name": "ipython",
    "version": 3
   },
   "file_extension": ".py",
   "mimetype": "text/x-python",
   "name": "python",
   "nbconvert_exporter": "python",
   "pygments_lexer": "ipython3",
   "version": "3.9.7"
  }
 },
 "nbformat": 4,
 "nbformat_minor": 4
}
