{
 "cells": [
  {
   "cell_type": "code",
   "execution_count": 1,
   "id": "7f13f573",
   "metadata": {},
   "outputs": [],
   "source": [
    "from collections import Counter\n",
    "class Solution(object):\n",
    "    def maxNumberOfBalloons(self, text):\n",
    "        x = Counter(text)\n",
    "        return(min(x['b'], x['a'], x['l']//2, x['o']//2, x['n']))"
   ]
  },
  {
   "cell_type": "code",
   "execution_count": 3,
   "id": "2fdc0279",
   "metadata": {},
   "outputs": [
    {
     "data": {
      "text/plain": [
       "0"
      ]
     },
     "execution_count": 3,
     "metadata": {},
     "output_type": "execute_result"
    }
   ],
   "source": [
    "x = Solution()\n",
    "x.maxNumberOfBalloons('ifhiufhiuheiufhi')"
   ]
  },
  {
   "cell_type": "code",
   "execution_count": null,
   "id": "13ad49b6",
   "metadata": {},
   "outputs": [],
   "source": []
  }
 ],
 "metadata": {
  "kernelspec": {
   "display_name": "Python 3",
   "language": "python",
   "name": "python3"
  },
  "language_info": {
   "codemirror_mode": {
    "name": "ipython",
    "version": 3
   },
   "file_extension": ".py",
   "mimetype": "text/x-python",
   "name": "python",
   "nbconvert_exporter": "python",
   "pygments_lexer": "ipython3",
   "version": "3.6.13"
  }
 },
 "nbformat": 4,
 "nbformat_minor": 5
}
