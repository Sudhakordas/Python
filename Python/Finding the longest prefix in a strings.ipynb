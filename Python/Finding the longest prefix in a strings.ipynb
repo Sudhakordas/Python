{
 "cells": [
  {
   "cell_type": "markdown",
   "id": "ce360458",
   "metadata": {},
   "source": [
    "1.Loop over all the element in the str list.\n",
    "2.Loop over each element in a strings.\n",
    "3.Take the first element of first index \n",
    "4.Loop through the rest all.\n",
    "5.Check if first element  of 1st string is match with rest's 1st  "
   ]
  },
  {
   "cell_type": "markdown",
   "id": "f6d3db36",
   "metadata": {},
   "source": [
    "https://leetcode.com/problems/happy-number/\n",
    "https://leetcode.com/problems/move-zeroes/\n",
    "https://leetcode.com/problems/remove-element/\n",
    "\n",
    "https://leetcode.com/problems/fibonacci-number/\n",
    "https://leetcode.com/problems/single-number/\n",
    "https://leetcode.com/problems/ugly-number/\n",
    "https://leetcode.com/problems/happy-number/\n",
    "https://leetcode.com/problems/missing-number/\n",
    "https://leetcode.com/problems/missing-number/solution/\n",
    "https://leetcode.com/problems/palindrome-number/\n",
    "https://leetcode.com/problems/move-zeroes/\n",
    "https://leetcode.com/problems/majority-element/\n",
    "https://leetcode.com/problems/remove-element/\n",
    "https://leetcode.com/problems/find-the-difference/"
   ]
  },
  {
   "cell_type": "code",
   "execution_count": 287,
   "id": "87254e12",
   "metadata": {},
   "outputs": [],
   "source": [
    "class Solution(object):\n",
    "    def longestCommonPrefix(self, strs):\n",
    "        count = 0\n",
    "        strs.sort(key = len)\n",
    "        print(strs)\n",
    "        if (len(strs))>1 :\n",
    "            x = strs[0]\n",
    "            output = []\n",
    "            isnotfound = False\n",
    "            \n",
    "            for ele in x: \n",
    "                index = count\n",
    "                for i in range(1, len(strs)):\n",
    "                    if ele == strs[i][index]:\n",
    "                        pass\n",
    "                    else:\n",
    "                        isnotfound = True\n",
    "                count = count + 1\n",
    "                if isnotfound == True:\n",
    "                    break\n",
    "                output.append(ele)\n",
    "            return \"\".join(str(i) for i in output)\n",
    "        \n",
    "        elif len(strs) == 1 and len(strs[0])  == 0 :\n",
    "            return \"\"\n",
    "        else:\n",
    "            return \"\".join(strs)\n",
    "        \n",
    "      \n",
    "            \n",
    "        "
   ]
  },
  {
   "cell_type": "code",
   "execution_count": 288,
   "id": "02766411",
   "metadata": {},
   "outputs": [
    {
     "name": "stdout",
     "output_type": "stream",
     "text": [
      "['aa', 'ab']\n",
      "0\n",
      "1\n"
     ]
    },
    {
     "data": {
      "text/plain": [
       "'a'"
      ]
     },
     "execution_count": 288,
     "metadata": {},
     "output_type": "execute_result"
    }
   ],
   "source": [
    "list = [\"aa\", \"ab\"]\n",
    "obj = Solution()\n",
    "obj.longestCommonPrefix(list)"
   ]
  },
  {
   "cell_type": "code",
   "execution_count": 173,
   "id": "3ad74974",
   "metadata": {},
   "outputs": [],
   "source": [
    "lis = [\"ab\"]\n",
    "def take(x):\n",
    "    if len(lis) == 1 and len(lis[0])  == 0 :\n",
    "        return \"\"\n",
    "x = take(lis)\n"
   ]
  },
  {
   "cell_type": "code",
   "execution_count": 168,
   "id": "f1f4f08a",
   "metadata": {},
   "outputs": [],
   "source": [
    "ix= ''"
   ]
  },
  {
   "cell_type": "code",
   "execution_count": null,
   "id": "96c80987",
   "metadata": {},
   "outputs": [],
   "source": []
  }
 ],
 "metadata": {
  "kernelspec": {
   "display_name": "Python 3",
   "language": "python",
   "name": "python3"
  },
  "language_info": {
   "codemirror_mode": {
    "name": "ipython",
    "version": 3
   },
   "file_extension": ".py",
   "mimetype": "text/x-python",
   "name": "python",
   "nbconvert_exporter": "python",
   "pygments_lexer": "ipython3",
   "version": "3.6.12"
  }
 },
 "nbformat": 4,
 "nbformat_minor": 5
}
