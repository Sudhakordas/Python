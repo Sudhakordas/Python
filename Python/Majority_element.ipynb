{
 "cells": [
  {
   "cell_type": "code",
   "execution_count": 142,
   "id": "42f427cf",
   "metadata": {},
   "outputs": [],
   "source": [
    "import numpy as np\n",
    "class Solution(object):\n",
    "    def majorityElement(self, nums):\n",
    "        li = {}\n",
    "        unique = np.unique(nums)\n",
    "        print(unique)\n",
    "        for n in unique:\n",
    "            if n not in li:\n",
    "                li[n] = 'yes'\n",
    "                print('jhgh', nums.count(n))\n",
    "                \n",
    "            if nums.count(n) > int(len(nums)/2):\n",
    "                return n"
   ]
  },
  {
   "cell_type": "code",
   "execution_count": 144,
   "id": "13d4a936",
   "metadata": {},
   "outputs": [
    {
     "name": "stdout",
     "output_type": "stream",
     "text": [
      "[3 4 5]\n",
      "jhgh 6\n"
     ]
    },
    {
     "data": {
      "text/plain": [
       "3"
      ]
     },
     "execution_count": 144,
     "metadata": {},
     "output_type": "execute_result"
    }
   ],
   "source": [
    "arr = [3,3,3,3,3,3,4,4,5,5,]\n",
    "obj =  Solution()\n",
    "obj.majorityElement(arr)"
   ]
  },
  {
   "cell_type": "code",
   "execution_count": null,
   "id": "f0dac976",
   "metadata": {},
   "outputs": [],
   "source": []
  },
  {
   "cell_type": "code",
   "execution_count": 8,
   "id": "f98850c6",
   "metadata": {},
   "outputs": [],
   "source": [
    "import numpy as np\n",
    "class Solution(object):\n",
    "    def majorityElement(self, nums):\n",
    "        majo = []\n",
    "        li = {}\n",
    "        unique = np.unique(nums)\n",
    "        for n in unique:\n",
    "            if n not in li:\n",
    "                li[n] = 'yes'\n",
    "            if nums.count(n) > int(len(nums)/3):\n",
    "                majo.append(n)\n",
    "        return majo"
   ]
  },
  {
   "cell_type": "code",
   "execution_count": 9,
   "id": "791f4b9c",
   "metadata": {},
   "outputs": [
    {
     "data": {
      "text/plain": [
       "[3, 4]"
      ]
     },
     "execution_count": 9,
     "metadata": {},
     "output_type": "execute_result"
    }
   ],
   "source": [
    "arr = [3,3,3,3,3,3,4,4,4,4,4,4,5,5,]\n",
    "obj =  Solution()\n",
    "obj.majorityElement(arr)"
   ]
  },
  {
   "cell_type": "code",
   "execution_count": null,
   "id": "8e3bb2c0",
   "metadata": {},
   "outputs": [],
   "source": []
  },
  {
   "cell_type": "code",
   "execution_count": null,
   "id": "5c2e26d4",
   "metadata": {},
   "outputs": [],
   "source": []
  },
  {
   "cell_type": "code",
   "execution_count": 12,
   "id": "ce2b2ec6",
   "metadata": {},
   "outputs": [
    {
     "ename": "IndentationError",
     "evalue": "expected an indented block (<ipython-input-12-030a26cb0c05>, line 22)",
     "output_type": "error",
     "traceback": [
      "\u001b[1;36m  File \u001b[1;32m\"<ipython-input-12-030a26cb0c05>\"\u001b[1;36m, line \u001b[1;32m22\u001b[0m\n\u001b[1;33m    return res\u001b[0m\n\u001b[1;37m    ^\u001b[0m\n\u001b[1;31mIndentationError\u001b[0m\u001b[1;31m:\u001b[0m expected an indented block\n"
     ]
    }
   ],
   "source": [
    "class Solution(object):\n",
    "    def threeSum(self, nums):\n",
    "        \n",
    "        res = []\n",
    "        num.sort()\n",
    "        \n",
    "        for i , a in enumerate(nums):\n",
    "            if i>0 and a == num[i-1]:\n",
    "                continue\n",
    "                \n",
    "            left, right = i + 1, len(nums) - 1\n",
    "            while(l<r):\n",
    "                threesum = a + nums[left] + nums[right]\n",
    "                if threesum > 0:\n",
    "                    right -= 1\n",
    "                elif threesum < 0:\n",
    "                    left += 1\n",
    "                else:\n",
    "                    res.append([a, nums[left], nums[right]])\n",
    "                    left += 1\n",
    "                    while nums[left] == nums[left+1] and l<r:\n",
    "    return res"
   ]
  },
  {
   "cell_type": "code",
   "execution_count": null,
   "id": "775bddcd",
   "metadata": {},
   "outputs": [],
   "source": [
    "arr = [3,3,3,3,3,3,4,4,4,4,4,4,5,5,]\n",
    "obj =  Solution()\n",
    "obj.majorityElement(arr)"
   ]
  }
 ],
 "metadata": {
  "kernelspec": {
   "display_name": "Python 3",
   "language": "python",
   "name": "python3"
  },
  "language_info": {
   "codemirror_mode": {
    "name": "ipython",
    "version": 3
   },
   "file_extension": ".py",
   "mimetype": "text/x-python",
   "name": "python",
   "nbconvert_exporter": "python",
   "pygments_lexer": "ipython3",
   "version": "3.6.13"
  }
 },
 "nbformat": 4,
 "nbformat_minor": 5
}
