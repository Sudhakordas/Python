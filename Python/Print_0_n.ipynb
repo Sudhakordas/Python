{
 "cells": [
  {
   "cell_type": "code",
   "execution_count": 5,
   "id": "335f2c9b",
   "metadata": {},
   "outputs": [
    {
     "name": "stdout",
     "output_type": "stream",
     "text": [
      "5\n",
      "4\n",
      "3\n",
      "2\n",
      "1\n"
     ]
    }
   ],
   "source": [
    "# python3 program to print 1 to n using recursion\n",
    "\n",
    "def printNumber(n):\n",
    "  # check if n is greater than 0\n",
    "  if n > 0:\n",
    "    # recursively call the printNumber function\n",
    "    print(n)\n",
    "    printNumber(n - 1)\n",
    "    # print n\n",
    "    \n",
    "\n",
    "# declare the value of n\n",
    "n = 5\n",
    "# call the printNumber function\n",
    "printNumber(n)\n"
   ]
  },
  {
   "cell_type": "code",
   "execution_count": 9,
   "id": "21ae04ea",
   "metadata": {},
   "outputs": [
    {
     "name": "stdout",
     "output_type": "stream",
     "text": [
      "1\n",
      "2\n"
     ]
    }
   ],
   "source": [
    "def print_number(n):\n",
    "    if n>0:\n",
    "        print_number(n-1)\n",
    "        if n<3:\n",
    "            print(n)\n",
    "        \n",
    "x = 5\n",
    "print_number(x)"
   ]
  },
  {
   "cell_type": "code",
   "execution_count": null,
   "id": "6a6c250e",
   "metadata": {},
   "outputs": [],
   "source": []
  }
 ],
 "metadata": {
  "kernelspec": {
   "display_name": "Python 3",
   "language": "python",
   "name": "python3"
  },
  "language_info": {
   "codemirror_mode": {
    "name": "ipython",
    "version": 3
   },
   "file_extension": ".py",
   "mimetype": "text/x-python",
   "name": "python",
   "nbconvert_exporter": "python",
   "pygments_lexer": "ipython3",
   "version": "3.6.13"
  }
 },
 "nbformat": 4,
 "nbformat_minor": 5
}
