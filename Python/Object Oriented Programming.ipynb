{
 "cells": [
  {
   "cell_type": "code",
   "execution_count": null,
   "id": "2ead6ba4",
   "metadata": {},
   "outputs": [],
   "source": [
    "# Class - Design or Blueprint\n",
    "# Object - Istances\n",
    "\n",
    "class Motivation:\n",
    "    \n",
    "    def seminar(self, )"
   ]
  }
 ],
 "metadata": {
  "kernelspec": {
   "display_name": "Python 3",
   "language": "python",
   "name": "python3"
  },
  "language_info": {
   "codemirror_mode": {
    "name": "ipython",
    "version": 3
   },
   "file_extension": ".py",
   "mimetype": "text/x-python",
   "name": "python",
   "nbconvert_exporter": "python",
   "pygments_lexer": "ipython3",
   "version": "3.6.13"
  }
 },
 "nbformat": 4,
 "nbformat_minor": 5
}
