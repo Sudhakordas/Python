{
 "cells": [
  {
   "cell_type": "code",
   "execution_count": 98,
   "id": "1d428643",
   "metadata": {},
   "outputs": [],
   "source": [
    "class Solution(object):\n",
    "    def findMedianSortedArrays(self, nums1, nums2):\n",
    "        combine = nums1 + nums2\n",
    "        combine.sort()\n",
    "        print(combine)\n",
    "        length =  len(combine)\n",
    "        if (length % 2 != 0):\n",
    "            index = int(float(length/2)) \n",
    "            median = combine[index]\n",
    "\n",
    "        if (length % 2 == 0):\n",
    "            first_index = int(length/2)\n",
    "            second_index = first_index - 1\n",
    "            median = (combine[first_index] + combine[second_index]) /2\n",
    "\n",
    "        return median\n"
   ]
  },
  {
   "cell_type": "code",
   "execution_count": 104,
   "id": "a2ff5030",
   "metadata": {},
   "outputs": [],
   "source": [
    "class Solution(object):\n",
    "    def findMedianSortedArrays(self, nums1, nums2):\n",
    "        combine = nums1 + nums2\n",
    "        combine.sort()\n",
    "        length =  len(combine)\n",
    "        if (length % 2 != 0):\n",
    "            index = int(float(length/2)) \n",
    "            median = combine[index]\n",
    "\n",
    "        if (length % 2 == 0):\n",
    "            first_index = int(length/2)\n",
    "            second_index = first_index - 1\n",
    "            median = (combine[first_index] + combine[second_index]) /2\n",
    "\n",
    "        return median"
   ]
  },
  {
   "cell_type": "code",
   "execution_count": 105,
   "id": "c4b0d090",
   "metadata": {},
   "outputs": [
    {
     "data": {
      "text/plain": [
       "2.5"
      ]
     },
     "execution_count": 105,
     "metadata": {},
     "output_type": "execute_result"
    }
   ],
   "source": [
    "arr1 = [1, 2]\n",
    "arr2 = [3, 4]\n",
    "x = Solution()\n",
    "x.findMedianSortedArrays(arr1, arr2)"
   ]
  },
  {
   "cell_type": "code",
   "execution_count": 86,
   "id": "3e02ea65",
   "metadata": {},
   "outputs": [],
   "source": [
    "def findmedian(a1, a2):\n",
    "    combine = a1 + a2\n",
    "    length =  len(combine)\n",
    "    if (length % 2 != 0):\n",
    "        index = int(float(length/2)) \n",
    "        print(index)\n",
    "        median = combine[index]\n",
    "    \n",
    "    if (length % 2 == 0):\n",
    "        first_index = int(length/2)\n",
    "        second_index = first_index - 1\n",
    "        print(first_index)\n",
    "        print(second_index)\n",
    "        x = first_index + second_index\n",
    "        print(x/2)\n",
    "        median = (combine[first_index] + combine[second_index]) /2\n",
    "        \n",
    "    return median"
   ]
  },
  {
   "cell_type": "code",
   "execution_count": 87,
   "id": "4a124e4b",
   "metadata": {},
   "outputs": [
    {
     "name": "stdout",
     "output_type": "stream",
     "text": [
      "3\n",
      "2\n",
      "2.5\n"
     ]
    },
    {
     "data": {
      "text/plain": [
       "3.5"
      ]
     },
     "execution_count": 87,
     "metadata": {},
     "output_type": "execute_result"
    }
   ],
   "source": [
    "findmedian(arr1, arr2)"
   ]
  },
  {
   "cell_type": "code",
   "execution_count": 80,
   "id": "38f8d3aa",
   "metadata": {},
   "outputs": [],
   "source": [
    "def findmedian(a1, a2):\n",
    "    combine = a1 + a2\n",
    "    print(combine)\n",
    "    length =  len(combine)\n",
    "   "
   ]
  },
  {
   "cell_type": "code",
   "execution_count": 81,
   "id": "b3e0ed89",
   "metadata": {},
   "outputs": [
    {
     "name": "stdout",
     "output_type": "stream",
     "text": [
      "[1, 2, 3, 4, 5, 6]\n",
      "3\n",
      "2\n"
     ]
    },
    {
     "data": {
      "text/plain": [
       "3.5"
      ]
     },
     "execution_count": 81,
     "metadata": {},
     "output_type": "execute_result"
    }
   ],
   "source": [
    "findmedian(arr1, arr2)"
   ]
  },
  {
   "cell_type": "code",
   "execution_count": null,
   "id": "386bbb7a",
   "metadata": {},
   "outputs": [],
   "source": []
  }
 ],
 "metadata": {
  "kernelspec": {
   "display_name": "Python 3",
   "language": "python",
   "name": "python3"
  },
  "language_info": {
   "codemirror_mode": {
    "name": "ipython",
    "version": 3
   },
   "file_extension": ".py",
   "mimetype": "text/x-python",
   "name": "python",
   "nbconvert_exporter": "python",
   "pygments_lexer": "ipython3",
   "version": "3.6.12"
  }
 },
 "nbformat": 4,
 "nbformat_minor": 5
}
