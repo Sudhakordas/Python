{
 "cells": [
  {
   "cell_type": "code",
   "execution_count": null,
   "id": "d157d7a3",
   "metadata": {},
   "outputs": [],
   "source": [
    "class Solution(object):\n",
    "    def removeDuplicates(self, nums):\n",
    "        l = 1\n",
    "        for r in range(1, len(nums)):\n",
    "            if nums[r] != nums[r-1]:\n",
    "                nums[l] = nums[r]\n",
    "                l+=1\n",
    "        return l\n",
    "                \n",
    "                 \n",
    "     \n",
    "        "
   ]
  },
  {
   "cell_type": "code",
   "execution_count": null,
   "id": "84fd43e2",
   "metadata": {},
   "outputs": [],
   "source": [
    "obj = Solution()\n",
    "obj.findTheDifference('', 't')"
   ]
  }
 ],
 "metadata": {
  "kernelspec": {
   "display_name": "Python 3",
   "language": "python",
   "name": "python3"
  },
  "language_info": {
   "codemirror_mode": {
    "name": "ipython",
    "version": 3
   },
   "file_extension": ".py",
   "mimetype": "text/x-python",
   "name": "python",
   "nbconvert_exporter": "python",
   "pygments_lexer": "ipython3",
   "version": "3.6.13"
  }
 },
 "nbformat": 4,
 "nbformat_minor": 5
}
