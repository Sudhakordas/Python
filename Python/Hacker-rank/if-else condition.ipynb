{
 "cells": [
  {
   "cell_type": "markdown",
   "id": "1274f187",
   "metadata": {},
   "source": [
    "Task\n",
    "\n",
    "Given an integer, , perform the following conditional actions:\n",
    "\n",
    "\n",
    "If  is odd, print Weird\n",
    "\n",
    "If  is even and in the inclusive range of  to , print Not Weird\n",
    "\n",
    "If  is even and in the inclusive range of  to , print Weird\n",
    "\n",
    "If  is even and greater than , print Not Weird"
   ]
  },
  {
   "cell_type": "code",
   "execution_count": 4,
   "id": "6616149e",
   "metadata": {},
   "outputs": [
    {
     "name": "stdout",
     "output_type": "stream",
     "text": [
      "4\n",
      "Not weird\n"
     ]
    }
   ],
   "source": [
    "import math\n",
    "import os\n",
    "import random\n",
    "import re\n",
    "import sys\n",
    "\n",
    "\n",
    "\n",
    "if __name__ == '__main__':\n",
    "    n = int(input().strip())\n",
    "\n",
    "if n%2 != 0:\n",
    "    print('Weird')\n",
    "    \n",
    "if n%2 == 0 and n in range(2,6):\n",
    "    print('Not weird')\n",
    "    \n",
    "if n%2 == 0 and n in range(6,21):\n",
    "    print('weird')\n",
    "    \n",
    "if n%2 == 0 and n>20:\n",
    "    print('Not eird')\n"
   ]
  },
  {
   "cell_type": "code",
   "execution_count": 3,
   "id": "298dcda9",
   "metadata": {},
   "outputs": [
    {
     "name": "stdout",
     "output_type": "stream",
     "text": [
      "Not weird\n"
     ]
    }
   ],
   "source": [
    "n = 4\n",
    "if n%2 == 0 and n in range(2,6):\n",
    "    print('Not weird')"
   ]
  },
  {
   "cell_type": "code",
   "execution_count": 1,
   "id": "62e133c2",
   "metadata": {},
   "outputs": [
    {
     "name": "stdout",
     "output_type": "stream",
     "text": [
      "1\n",
      "2\n",
      "3\n",
      "4\n"
     ]
    }
   ],
   "source": [
    "for i in range(1,5):\n",
    "    print(i)"
   ]
  },
  {
   "cell_type": "code",
   "execution_count": null,
   "id": "ae59b4da",
   "metadata": {},
   "outputs": [],
   "source": []
  }
 ],
 "metadata": {
  "kernelspec": {
   "display_name": "Python 3 (ipykernel)",
   "language": "python",
   "name": "python3"
  },
  "language_info": {
   "codemirror_mode": {
    "name": "ipython",
    "version": 3
   },
   "file_extension": ".py",
   "mimetype": "text/x-python",
   "name": "python",
   "nbconvert_exporter": "python",
   "pygments_lexer": "ipython3",
   "version": "3.9.12"
  }
 },
 "nbformat": 4,
 "nbformat_minor": 5
}
