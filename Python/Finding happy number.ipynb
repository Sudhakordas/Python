{
 "cells": [
  {
   "cell_type": "markdown",
   "id": "40b20e5c",
   "metadata": {},
   "source": [
    "1. Take a number.\n"
   ]
  },
  {
   "cell_type": "code",
   "execution_count": 1,
   "id": "9b0e080a",
   "metadata": {},
   "outputs": [],
   "source": [
    "class Solution(object):\n",
    "    def isHappy(self, n):\n",
    "        \n",
    "        if n>1 and n<10:\n",
    "            return False\n",
    "        \n",
    "        elif n == 1 :\n",
    "            return True\n",
    "        \n",
    "        "
   ]
  },
  {
   "cell_type": "code",
   "execution_count": 3,
   "id": "9a7349a8",
   "metadata": {},
   "outputs": [
    {
     "data": {
      "text/plain": [
       "False"
      ]
     },
     "execution_count": 3,
     "metadata": {},
     "output_type": "execute_result"
    }
   ],
   "source": [
    "num = 9\n",
    "obj = Solution()\n",
    "obj.isHappy(num)"
   ]
  },
  {
   "cell_type": "code",
   "execution_count": 16,
   "id": "88c58678",
   "metadata": {},
   "outputs": [
    {
     "name": "stdout",
     "output_type": "stream",
     "text": [
      "First value: 123\n",
      "12\n",
      "questioner 12\n",
      "reminder 3\n",
      "1\n",
      "questioner 1\n",
      "reminder 2\n",
      "0\n",
      "questioner 0\n",
      "reminder 1\n"
     ]
    }
   ],
   "source": [
    "n = 123\n",
    "print('First value:', n)\n",
    "while n>0:\n",
    "    r = n%10\n",
    "    q = n//10\n",
    "    n = q\n",
    "    print(n)\n",
    "    print('questioner',q)\n",
    "    print('reminder',r)\n",
    "    \n",
    "    if q == 0:\n",
    "        break"
   ]
  },
  {
   "cell_type": "code",
   "execution_count": null,
   "id": "1689675f",
   "metadata": {},
   "outputs": [],
   "source": []
  }
 ],
 "metadata": {
  "kernelspec": {
   "display_name": "Python 3",
   "language": "python",
   "name": "python3"
  },
  "language_info": {
   "codemirror_mode": {
    "name": "ipython",
    "version": 3
   },
   "file_extension": ".py",
   "mimetype": "text/x-python",
   "name": "python",
   "nbconvert_exporter": "python",
   "pygments_lexer": "ipython3",
   "version": "3.6.13"
  }
 },
 "nbformat": 4,
 "nbformat_minor": 5
}
