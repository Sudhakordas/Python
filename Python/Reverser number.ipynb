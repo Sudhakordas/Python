{
 "cells": [
  {
   "cell_type": "code",
   "execution_count": 21,
   "id": "594d71ba",
   "metadata": {},
   "outputs": [
    {
     "name": "stdout",
     "output_type": "stream",
     "text": [
      "1534236469\n"
     ]
    },
    {
     "data": {
      "text/plain": [
       "0"
      ]
     },
     "execution_count": 21,
     "metadata": {},
     "output_type": "execute_result"
    }
   ],
   "source": [
    "# Python program to reverse a number\n",
    " \n",
    "number = 1534236469\n",
    "rev = 0\n",
    "def reverse(n):\n",
    "    ab = abs(number)\n",
    "    print(ab)\n",
    "    while(ab > 0):\n",
    "        global rev \n",
    "        a = ab % 10\n",
    "        rev = rev * 10 + a\n",
    "        ab = ab // 10\n",
    "        \n",
    "    if rev >= 2**31-1 or  rev <= -2**31: \n",
    "        return 0\n",
    "    \n",
    "    if number>0:\n",
    "         return rev\n",
    "    else:\n",
    "         return rev * (-1)\n",
    "\n",
    "reverse(n)"
   ]
  },
  {
   "cell_type": "code",
   "execution_count": null,
   "id": "5b36560f",
   "metadata": {},
   "outputs": [],
   "source": [
    "class Solution(object):\n",
    "    def reverse(self, x):"
   ]
  }
 ],
 "metadata": {
  "kernelspec": {
   "display_name": "Python 3",
   "language": "python",
   "name": "python3"
  },
  "language_info": {
   "codemirror_mode": {
    "name": "ipython",
    "version": 3
   },
   "file_extension": ".py",
   "mimetype": "text/x-python",
   "name": "python",
   "nbconvert_exporter": "python",
   "pygments_lexer": "ipython3",
   "version": "3.6.13"
  }
 },
 "nbformat": 4,
 "nbformat_minor": 5
}
