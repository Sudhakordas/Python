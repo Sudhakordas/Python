{
 "cells": [
  {
   "cell_type": "code",
   "execution_count": 30,
   "id": "b4037db9",
   "metadata": {},
   "outputs": [],
   "source": [
    "phone_map = {'2': 'abc',\n",
    "       '3': 'def',\n",
    "       '4': 'ghi',\n",
    "        '5': 'jkl',\n",
    "        '6': 'mno',\n",
    "        '7': 'pqrs',\n",
    "        '8': 'tuv',\n",
    "        '9': 'wxyz'\n",
    "       }"
   ]
  },
  {
   "cell_type": "code",
   "execution_count": 31,
   "id": "218c6072",
   "metadata": {},
   "outputs": [
    {
     "data": {
      "text/plain": [
       "['adg',\n",
       " 'adh',\n",
       " 'adi',\n",
       " 'aeg',\n",
       " 'aeh',\n",
       " 'aei',\n",
       " 'afg',\n",
       " 'afh',\n",
       " 'afi',\n",
       " 'bdg',\n",
       " 'bdh',\n",
       " 'bdi',\n",
       " 'beg',\n",
       " 'beh',\n",
       " 'bei',\n",
       " 'bfg',\n",
       " 'bfh',\n",
       " 'bfi',\n",
       " 'cdg',\n",
       " 'cdh',\n",
       " 'cdi',\n",
       " 'ceg',\n",
       " 'ceh',\n",
       " 'cei',\n",
       " 'cfg',\n",
       " 'cfh',\n",
       " 'cfi']"
      ]
     },
     "execution_count": 31,
     "metadata": {},
     "output_type": "execute_result"
    }
   ],
   "source": [
    "digits = '234'\n",
    "numbers = list(phone_map[digits[0]])\n",
    "\n",
    "for digit in digits[1:]:\n",
    "    numbers = [old + new for old in numbers for new in list(phone_map[digit])]\n",
    "\n",
    "numbers"
   ]
  },
  {
   "cell_type": "code",
   "execution_count": 34,
   "id": "228f4c56",
   "metadata": {},
   "outputs": [
    {
     "name": "stdout",
     "output_type": "stream",
     "text": [
      "\n"
     ]
    },
    {
     "ename": "IndexError",
     "evalue": "string index out of range",
     "output_type": "error",
     "traceback": [
      "\u001b[1;31m---------------------------------------------------------------------------\u001b[0m",
      "\u001b[1;31mIndexError\u001b[0m                                Traceback (most recent call last)",
      "Input \u001b[1;32mIn [34]\u001b[0m, in \u001b[0;36m<cell line: 5>\u001b[1;34m()\u001b[0m\n\u001b[0;32m      3\u001b[0m \u001b[38;5;28;01mif\u001b[39;00m digits \u001b[38;5;241m==\u001b[39m \u001b[38;5;124m'\u001b[39m\u001b[38;5;124m'\u001b[39m:\n\u001b[0;32m      4\u001b[0m     \u001b[38;5;28mprint\u001b[39m(\u001b[38;5;124m'\u001b[39m\u001b[38;5;124m'\u001b[39m)\n\u001b[1;32m----> 5\u001b[0m numbers \u001b[38;5;241m=\u001b[39m \u001b[38;5;28mlist\u001b[39m(phone_map[\u001b[43mdigits\u001b[49m\u001b[43m[\u001b[49m\u001b[38;5;241;43m0\u001b[39;49m\u001b[43m]\u001b[49m])\n\u001b[0;32m      7\u001b[0m \u001b[38;5;28;01mfor\u001b[39;00m digit \u001b[38;5;129;01min\u001b[39;00m digits[\u001b[38;5;241m1\u001b[39m:]:\n\u001b[0;32m      8\u001b[0m     \u001b[38;5;66;03m#numbers = [old + new for old in numbers for new in list(phone_map[digit])]\u001b[39;00m\n\u001b[0;32m      9\u001b[0m     num \u001b[38;5;241m=\u001b[39m []\n",
      "\u001b[1;31mIndexError\u001b[0m: string index out of range"
     ]
    }
   ],
   "source": [
    "digits = ''\n",
    "\n",
    "if digits == '':\n",
    "    print('')\n",
    "numbers = list(phone_map[digits[0]])\n",
    "\n",
    "for digit in digits[1:]:\n",
    "    #numbers = [old + new for old in numbers for new in list(phone_map[digit])]\n",
    "    num = []\n",
    "    for old in numbers:\n",
    "        for new in list(phone_map[digit]):\n",
    "            num.append(old+new)\n",
    "    numbers = num\n",
    "num"
   ]
  },
  {
   "cell_type": "code",
   "execution_count": null,
   "id": "508e4b33",
   "metadata": {},
   "outputs": [],
   "source": []
  },
  {
   "cell_type": "code",
   "execution_count": null,
   "id": "ac5b1a97",
   "metadata": {},
   "outputs": [],
   "source": []
  },
  {
   "cell_type": "code",
   "execution_count": 19,
   "id": "c8d2f184",
   "metadata": {},
   "outputs": [
    {
     "name": "stdout",
     "output_type": "stream",
     "text": [
      "Nothing\n"
     ]
    }
   ],
   "source": [
    "string = 1\n",
    "if (string == 1 or  string == ''):\n",
    "    print('Nothing')"
   ]
  },
  {
   "cell_type": "code",
   "execution_count": 29,
   "id": "5a519de8",
   "metadata": {},
   "outputs": [
    {
     "name": "stdout",
     "output_type": "stream",
     "text": [
      "abc\n",
      "def\n"
     ]
    },
    {
     "data": {
      "text/plain": [
       "['abc', 'def']"
      ]
     },
     "execution_count": 29,
     "metadata": {},
     "output_type": "execute_result"
    }
   ],
   "source": [
    "string = '23'\n",
    "dict_value = []\n",
    "for i in string:\n",
    "    print(Dict.get(i))\n",
    "    dict_value.append(Dict.get(i))\n"
   ]
  },
  {
   "cell_type": "code",
   "execution_count": 34,
   "id": "78886714",
   "metadata": {},
   "outputs": [
    {
     "data": {
      "text/plain": [
       "['ad', 'ae', 'af', 'bd', 'be', 'bf', 'cd', 'ce', 'cf']"
      ]
     },
     "execution_count": 34,
     "metadata": {},
     "output_type": "execute_result"
    }
   ],
   "source": [
    "output = []\n",
    "for i in range(len(dict_value[0])):\n",
    "    value = dict_value[0][i]\n",
    "    for j in range(len(dict_value[1])):\n",
    "        output.append(value + dict_value[1][j])\n",
    "output"
   ]
  },
  {
   "cell_type": "code",
   "execution_count": null,
   "id": "7b078943",
   "metadata": {},
   "outputs": [],
   "source": []
  }
 ],
 "metadata": {
  "kernelspec": {
   "display_name": "Python 3 (ipykernel)",
   "language": "python",
   "name": "python3"
  },
  "language_info": {
   "codemirror_mode": {
    "name": "ipython",
    "version": 3
   },
   "file_extension": ".py",
   "mimetype": "text/x-python",
   "name": "python",
   "nbconvert_exporter": "python",
   "pygments_lexer": "ipython3",
   "version": "3.9.12"
  }
 },
 "nbformat": 4,
 "nbformat_minor": 5
}
