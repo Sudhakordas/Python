{
 "cells": [
  {
   "cell_type": "code",
   "execution_count": null,
   "id": "b98d934e",
   "metadata": {},
   "outputs": [],
   "source": []
  }
 ],
 "metadata": {
  "kernelspec": {
   "display_name": "tfod",
   "language": "python",
   "name": "tfod"
  }
 },
 "nbformat": 4,
 "nbformat_minor": 5
}
