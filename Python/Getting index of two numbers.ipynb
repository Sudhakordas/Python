{
 "cells": [
  {
   "cell_type": "code",
   "execution_count": 1,
   "id": "5b3c8a1d",
   "metadata": {},
   "outputs": [
    {
     "name": "stdout",
     "output_type": "stream",
     "text": [
      "Put how many elelment do you want to store in the list6\n",
      "Enter the element:4\n",
      "Enter the element:5\n",
      "Enter the element:8\n",
      "Enter the element:9\n",
      "Enter the element:12\n",
      "Enter the element:23\n",
      "Enter the target value: 13\n",
      "[0, 3]\n"
     ]
    }
   ],
   "source": [
    "n = int(input('Put how many elelment do you want to store in the list'))\n",
    "List = []\n",
    "\n",
    "for i in range(n):\n",
    "    element = int(input(\"Enter the element:\"))\n",
    "    List.append(element)\n",
    "    \n",
    "target = int(input('Enter the target value: '))\n",
    "\n",
    "i = 0 \n",
    "output = []\n",
    "for i in range((len(List))):\n",
    "    diff = target - List[i]\n",
    "    if diff in List:\n",
    "        first_index = i\n",
    "        second_index = List.index(diff)\n",
    "        output.append(first_index)\n",
    "        output.append(second_index)\n",
    "        #print('First index is:', first_index)\n",
    "        #print('Second index is:', second_index)\n",
    "        print(output)\n",
    "        break\n",
    "    if i == (len(List) - 1):\n",
    "        print('Not Found')\n",
    "        \n"
   ]
  },
  {
   "cell_type": "code",
   "execution_count": 179,
   "id": "ca093f79",
   "metadata": {},
   "outputs": [],
   "source": [
    "class Solution(object):\n",
    "    def twoSum(self, nums, target):\n",
    "        output = []\n",
    "        for i in range((len(nums))):\n",
    "            diff = target - nums[i]\n",
    "            if diff == nums[i]:\n",
    "                newli = nums[:i] + nums[i+1:]\n",
    "                if diff in newli:\n",
    "                    first_index = i\n",
    "                    second_index = nums.index(diff)\n",
    "                    output.append(first_index)\n",
    "                    output.append(second_index)\n",
    "                    return output\n",
    "                    break\n",
    "\n",
    "            if diff != nums[i]:\n",
    "                if diff in nums:\n",
    "                    first_index = i\n",
    "                    second_index = nums.index(diff)\n",
    "                    output.append(first_index)\n",
    "                    output.append(second_index)\n",
    "                    return output\n",
    "                    break"
   ]
  },
  {
   "cell_type": "code",
   "execution_count": 184,
   "id": "b51dcfbf",
   "metadata": {},
   "outputs": [],
   "source": [
    "num= [3,2,4]"
   ]
  },
  {
   "cell_type": "code",
   "execution_count": 185,
   "id": "34324d69",
   "metadata": {},
   "outputs": [
    {
     "data": {
      "text/plain": [
       "[1, 2]"
      ]
     },
     "execution_count": 185,
     "metadata": {},
     "output_type": "execute_result"
    }
   ],
   "source": [
    "cl = Solution()\n",
    "x = cl.twoSum(num, 6)\n",
    "x "
   ]
  },
  {
   "cell_type": "code",
   "execution_count": 150,
   "id": "38234102",
   "metadata": {},
   "outputs": [
    {
     "ename": "TypeError",
     "evalue": "'list' object is not callable",
     "output_type": "error",
     "traceback": [
      "\u001b[1;31m---------------------------------------------------------------------------\u001b[0m",
      "\u001b[1;31mTypeError\u001b[0m                                 Traceback (most recent call last)",
      "\u001b[1;32m<ipython-input-150-da47a31a7147>\u001b[0m in \u001b[0;36m<module>\u001b[1;34m\u001b[0m\n\u001b[0;32m      1\u001b[0m \u001b[0msuits\u001b[0m \u001b[1;33m=\u001b[0m \u001b[1;33m[\u001b[0m\u001b[1;36m1\u001b[0m\u001b[1;33m,\u001b[0m\u001b[1;36m2\u001b[0m\u001b[1;33m,\u001b[0m\u001b[1;36m3\u001b[0m\u001b[1;33m,\u001b[0m\u001b[1;36m4\u001b[0m\u001b[1;33m]\u001b[0m\u001b[1;33m\u001b[0m\u001b[1;33m\u001b[0m\u001b[0m\n\u001b[1;32m----> 2\u001b[1;33m \u001b[0mnoclubs\u001b[0m \u001b[1;33m=\u001b[0m \u001b[0mlist\u001b[0m\u001b[1;33m(\u001b[0m\u001b[0msuits\u001b[0m\u001b[1;33m)\u001b[0m\u001b[1;33m\u001b[0m\u001b[1;33m\u001b[0m\u001b[0m\n\u001b[0m\u001b[0;32m      3\u001b[0m \u001b[0mnoclubs\u001b[0m\u001b[1;33m.\u001b[0m\u001b[0mremove\u001b[0m\u001b[1;33m(\u001b[0m\u001b[1;36m3\u001b[0m\u001b[1;33m)\u001b[0m\u001b[1;33m\u001b[0m\u001b[1;33m\u001b[0m\u001b[0m\n\u001b[0;32m      4\u001b[0m \u001b[0mnoclubs\u001b[0m\u001b[1;33m\u001b[0m\u001b[1;33m\u001b[0m\u001b[0m\n\u001b[0;32m      5\u001b[0m \u001b[1;33m[\u001b[0m\u001b[1;34m'h'\u001b[0m\u001b[1;33m,\u001b[0m \u001b[1;34m'd'\u001b[0m\u001b[1;33m,\u001b[0m \u001b[1;34m's'\u001b[0m\u001b[1;33m]\u001b[0m\u001b[1;33m\u001b[0m\u001b[1;33m\u001b[0m\u001b[0m\n",
      "\u001b[1;31mTypeError\u001b[0m: 'list' object is not callable"
     ]
    }
   ],
   "source": [
    ">>> suits = [1,2,3,4]\n",
    ">>> noclubs = list(suits)\n",
    ">>> noclubs.remove(3)\n",
    ">>> noclubs\n",
    "['h', 'd', 's']"
   ]
  },
  {
   "cell_type": "code",
   "execution_count": 187,
   "id": "8e9d812d",
   "metadata": {},
   "outputs": [],
   "source": [
    "class Solution(object):\n",
    "    def twoSum(self, nums, target):\n",
    "        for i in range((len(nums))):\n",
    "            for j in range(len(nums)):\n",
    "                if i == j:\n",
    "                     continue\n",
    "                if nums[i] + nums[j] == target:\n",
    "                    return [i,j]\n",
    "           "
   ]
  },
  {
   "cell_type": "code",
   "execution_count": 191,
   "id": "b92dba3a",
   "metadata": {},
   "outputs": [
    {
     "data": {
      "text/plain": [
       "[0, 1]"
      ]
     },
     "execution_count": 191,
     "metadata": {},
     "output_type": "execute_result"
    }
   ],
   "source": [
    "element = [9,2,3,4,5,6,7,8,9,]\n",
    "obj = Solution()\n",
    "obj.twoSum(element, 11)"
   ]
  },
  {
   "cell_type": "code",
   "execution_count": null,
   "id": "81890211",
   "metadata": {},
   "outputs": [],
   "source": []
  }
 ],
 "metadata": {
  "kernelspec": {
   "display_name": "Python 3",
   "language": "python",
   "name": "python3"
  },
  "language_info": {
   "codemirror_mode": {
    "name": "ipython",
    "version": 3
   },
   "file_extension": ".py",
   "mimetype": "text/x-python",
   "name": "python",
   "nbconvert_exporter": "python",
   "pygments_lexer": "ipython3",
   "version": "3.6.12"
  }
 },
 "nbformat": 4,
 "nbformat_minor": 5
}
