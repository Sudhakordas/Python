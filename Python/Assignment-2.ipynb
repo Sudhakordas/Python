{
 "cells": [
  {
   "cell_type": "markdown",
   "id": "016d508c",
   "metadata": {},
   "source": [
    "# Majority Element"
   ]
  },
  {
   "cell_type": "code",
   "execution_count": null,
   "id": "fb1ac52c",
   "metadata": {},
   "outputs": [],
   "source": [
    "import numpy as np\n",
    "class Solution(object):\n",
    "    def majorityElement(self, nums):\n",
    "        majo = []\n",
    "        li = {}\n",
    "        unique = np.unique(nums)\n",
    "        for n in unique:\n",
    "            if n not in li:\n",
    "                li[n] = 'yes'\n",
    "            if nums.count(n) > int(len(nums)/3):\n",
    "                majo.append(n)\n",
    "        return majo"
   ]
  },
  {
   "cell_type": "markdown",
   "id": "d83da926",
   "metadata": {},
   "source": [
    "# 3 Sum II"
   ]
  },
  {
   "cell_type": "code",
   "execution_count": null,
   "id": "470ce23f",
   "metadata": {},
   "outputs": [],
   "source": [
    "class Solution(object):\n",
    "    def threeSum(self, nums):\n",
    "        \n",
    "        res = []\n",
    "        num.sort()\n",
    "        \n",
    "        for i , a in enumerate(nums):\n",
    "            for i>0 and a == num[i-1]:\n",
    "                continue\n",
    "                \n",
    "            left, right = i + 1, len(nums) - 1\n",
    "            while(l<r):\n",
    "                threesum = a + nums[left] + nums[right]\n",
    "                if threesum > 0:\n",
    "                    right -= 1\n",
    "                elif threesum < 0:\n",
    "                    left += 1\n",
    "                else:\n",
    "                    res.append([a, nums[left], nums[right]])\n",
    "                    left += 1\n",
    "                    while nums[left] == nums[left+1] and l<r:\n",
    "    return res"
   ]
  }
 ],
 "metadata": {
  "kernelspec": {
   "display_name": "Python 3",
   "language": "python",
   "name": "python3"
  },
  "language_info": {
   "codemirror_mode": {
    "name": "ipython",
    "version": 3
   },
   "file_extension": ".py",
   "mimetype": "text/x-python",
   "name": "python",
   "nbconvert_exporter": "python",
   "pygments_lexer": "ipython3",
   "version": "3.6.13"
  }
 },
 "nbformat": 4,
 "nbformat_minor": 5
}
