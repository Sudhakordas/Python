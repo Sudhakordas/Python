{
 "cells": [
  {
   "cell_type": "code",
   "execution_count": 67,
   "id": "ad35092d",
   "metadata": {},
   "outputs": [],
   "source": [
    "# Definition for singly-linked list.\n",
    "# class ListNode(object):\n",
    "#     def __init__(self, val=0, next=None):\n",
    "#         self.val = val\n",
    "#         self.next = next\n",
    "class Solution(object):\n",
    "    \n",
    "    def addTwoNumbers(self, l1, l2):\n",
    "        l1.reverse()\n",
    "        l2.reverse()\n",
    "        combine = [l1, l2]\n",
    "        add = 0\n",
    "        for ls in combine:\n",
    "            list_t_string = [str(element) for element in ls]\n",
    "            ad_string = \"\".join(list_t_string)\n",
    "            integer = int(ad_string)\n",
    "            add+=integer\n",
    "            print('Both of the list are', ls)\n",
    "            print('Summation of two number:', add)\n",
    "\n",
    "        output = [int(i) for i in str(add)]  \n",
    "        output.reverse()\n",
    "        return output\n",
    "    \n",
    "        \n",
    "        "
   ]
  },
  {
   "cell_type": "code",
   "execution_count": 68,
   "id": "367e8499",
   "metadata": {},
   "outputs": [
    {
     "name": "stdout",
     "output_type": "stream",
     "text": [
      "Both of the list are [9, 9, 9, 9, 9, 9, 9]\n",
      "Summation of two number: 9999999\n",
      "Both of the list are [9, 9, 9]\n",
      "Summation of two number: 10000998\n"
     ]
    },
    {
     "data": {
      "text/plain": [
       "[8, 9, 9, 0, 0, 0, 0, 1]"
      ]
     },
     "execution_count": 68,
     "metadata": {},
     "output_type": "execute_result"
    }
   ],
   "source": [
    "l1 = [9,9,9,9,9,9,9]\n",
    "l2 = [9,9,9]\n",
    "obj = Solution()\n",
    "obj.addTwoNumbers(l1, l2)"
   ]
  },
  {
   "cell_type": "code",
   "execution_count": 51,
   "id": "1006ba0a",
   "metadata": {},
   "outputs": [
    {
     "name": "stdout",
     "output_type": "stream",
     "text": [
      "[6, 5, 4, 3, 1]\n"
     ]
    }
   ],
   "source": [
    "l1 = [1, 3, 4, 5, 6,]\n",
    "l1.reverse()\n",
    "print(l1)"
   ]
  },
  {
   "cell_type": "code",
   "execution_count": 9,
   "id": "1f2bbf6d",
   "metadata": {},
   "outputs": [
    {
     "ename": "SyntaxError",
     "evalue": "invalid syntax (<ipython-input-9-2809fcd63b40>, line 2)",
     "output_type": "error",
     "traceback": [
      "\u001b[1;36m  File \u001b[1;32m\"<ipython-input-9-2809fcd63b40>\"\u001b[1;36m, line \u001b[1;32m2\u001b[0m\n\u001b[1;33m    l{'i'} = [1,2,3,4]\u001b[0m\n\u001b[1;37m     ^\u001b[0m\n\u001b[1;31mSyntaxError\u001b[0m\u001b[1;31m:\u001b[0m invalid syntax\n"
     ]
    }
   ],
   "source": [
    "i = 0\n",
    "l{'i'} = [1,2,3,4]\n"
   ]
  },
  {
   "cell_type": "code",
   "execution_count": 56,
   "id": "6363623e",
   "metadata": {},
   "outputs": [],
   "source": [
    "def convert_list_number(lis):\n",
    "        list_t_string = [str(element) for element in lis]\n",
    "        ad_string = \"\".join(list_t_string)\n",
    "        integer = int(ad_string)\n",
    "        \n",
    "        return integer\n",
    "    \n",
    "def convert_num_list(num):\n",
    "    return [int(i) for i in str(num)]\n",
    "    \n",
    "    \n",
    "    \n",
    "def addTwoNumbers( l1, l2):\n",
    "    l1.reverse()\n",
    "    l2.reverse()\n",
    "    combine = [l1, l2]\n",
    "    add = 0\n",
    "    for ls in combine:\n",
    "        x = convert_list_number(ls)\n",
    "        add+=x\n",
    "        print('Both of the list are', ls)\n",
    "        print('Summation of two number:', add)\n",
    "    \n",
    "    output = convert_num_list(add)\n",
    "    output.reverse()\n",
    "    return output\n",
    "    "
   ]
  },
  {
   "cell_type": "code",
   "execution_count": 59,
   "id": "3b907c1b",
   "metadata": {},
   "outputs": [
    {
     "name": "stdout",
     "output_type": "stream",
     "text": [
      "Both of the list are [9, 9, 9, 9, 9, 9, 9]\n",
      "Summation of two number: 9999999\n",
      "Both of the list are [9, 9, 9]\n",
      "Summation of two number: 10000998\n"
     ]
    },
    {
     "data": {
      "text/plain": [
       "[8, 9, 9, 0, 0, 0, 0, 1]"
      ]
     },
     "execution_count": 59,
     "metadata": {},
     "output_type": "execute_result"
    }
   ],
   "source": [
    "l1 = [9,9,9,9,9,9,9]\n",
    "l2 = [9,9,9]\n",
    "addTwoNumbers(l1, l2)\n"
   ]
  },
  {
   "cell_type": "code",
   "execution_count": 8,
   "id": "789a5d08",
   "metadata": {},
   "outputs": [
    {
     "name": "stdout",
     "output_type": "stream",
     "text": [
      "[1, 2, 3]\n",
      "[4, 5, 6]\n"
     ]
    }
   ],
   "source": [
    "for i  in  list:\n",
    "    print(i)"
   ]
  },
  {
   "cell_type": "code",
   "execution_count": null,
   "id": "ad7ec214",
   "metadata": {},
   "outputs": [],
   "source": []
  }
 ],
 "metadata": {
  "kernelspec": {
   "display_name": "Python 3",
   "language": "python",
   "name": "python3"
  },
  "language_info": {
   "codemirror_mode": {
    "name": "ipython",
    "version": 3
   },
   "file_extension": ".py",
   "mimetype": "text/x-python",
   "name": "python",
   "nbconvert_exporter": "python",
   "pygments_lexer": "ipython3",
   "version": "3.6.12"
  }
 },
 "nbformat": 4,
 "nbformat_minor": 5
}
